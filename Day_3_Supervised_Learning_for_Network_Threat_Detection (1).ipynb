{
  "nbformat": 4,
  "nbformat_minor": 0,
  "metadata": {
    "colab": {
      "provenance": []
    },
    "kernelspec": {
      "name": "python3",
      "display_name": "Python 3"
    },
    "language_info": {
      "name": "python"
    }
  },
  "cells": [
    {
      "cell_type": "markdown",
      "source": [
        "\n",
        "\n",
        "\n",
        "# **Day 3: Supervised Machine Learning on NSL-KDD Dataset**"
      ],
      "metadata": {
        "id": "jNdsN9jGw2Yx"
      }
    },
    {
      "cell_type": "markdown",
      "source": [
        "This notebook covers:\n",
        "- Data Cleaning\n",
        "- Data Transformation (Encoding + Scaling)\n",
        "- PCA for Dimensionality Reduction\n",
        "- Supervised ML Models: Logistic Regression, Random Forest, XGBoost, Neural Network\n",
        "- Optional: CNN for time-series modeling\n",
        "- Evaluation Metrics"
      ],
      "metadata": {
        "id": "Hg1gO1Yow7Ex"
      }
    },
    {
      "cell_type": "markdown",
      "source": [
        "# **📦 Install Dependencies**\n",
        "- Seaborn is used for creating visually appealing and informative statistical graphics with ease, especially when working with Pandas DataFrames.\n",
        "- Matplotlib is used for generating a wide range of static, animated, and interactive 2D plots in Python.\n",
        "- Scikit-learn is used for implementing machine learning algorithms, data preprocessing, model evaluation, and building predictive models."
      ],
      "metadata": {
        "id": "5HsFDu-TxAe3"
      }
    },
    {
      "cell_type": "code",
      "execution_count": 82,
      "metadata": {
        "id": "OLLmsAylwyYA",
        "colab": {
          "base_uri": "https://localhost:8080/"
        },
        "outputId": "07173212-d9b3-4528-d247-6abe226eb709"
      },
      "outputs": [
        {
          "output_type": "stream",
          "name": "stdout",
          "text": [
            "Requirement already satisfied: xgboost in /usr/local/lib/python3.11/dist-packages (2.1.4)\n",
            "Requirement already satisfied: scikit-learn in /usr/local/lib/python3.11/dist-packages (1.6.1)\n",
            "Requirement already satisfied: pandas in /usr/local/lib/python3.11/dist-packages (2.2.2)\n",
            "Requirement already satisfied: matplotlib in /usr/local/lib/python3.11/dist-packages (3.10.0)\n",
            "Requirement already satisfied: seaborn in /usr/local/lib/python3.11/dist-packages (0.13.2)\n",
            "Requirement already satisfied: tensorflow in /usr/local/lib/python3.11/dist-packages (2.18.0)\n",
            "Requirement already satisfied: numpy in /usr/local/lib/python3.11/dist-packages (from xgboost) (2.0.2)\n",
            "Requirement already satisfied: nvidia-nccl-cu12 in /usr/local/lib/python3.11/dist-packages (from xgboost) (2.21.5)\n",
            "Requirement already satisfied: scipy in /usr/local/lib/python3.11/dist-packages (from xgboost) (1.15.3)\n",
            "Requirement already satisfied: joblib>=1.2.0 in /usr/local/lib/python3.11/dist-packages (from scikit-learn) (1.5.0)\n",
            "Requirement already satisfied: threadpoolctl>=3.1.0 in /usr/local/lib/python3.11/dist-packages (from scikit-learn) (3.6.0)\n",
            "Requirement already satisfied: python-dateutil>=2.8.2 in /usr/local/lib/python3.11/dist-packages (from pandas) (2.9.0.post0)\n",
            "Requirement already satisfied: pytz>=2020.1 in /usr/local/lib/python3.11/dist-packages (from pandas) (2025.2)\n",
            "Requirement already satisfied: tzdata>=2022.7 in /usr/local/lib/python3.11/dist-packages (from pandas) (2025.2)\n",
            "Requirement already satisfied: contourpy>=1.0.1 in /usr/local/lib/python3.11/dist-packages (from matplotlib) (1.3.2)\n",
            "Requirement already satisfied: cycler>=0.10 in /usr/local/lib/python3.11/dist-packages (from matplotlib) (0.12.1)\n",
            "Requirement already satisfied: fonttools>=4.22.0 in /usr/local/lib/python3.11/dist-packages (from matplotlib) (4.58.0)\n",
            "Requirement already satisfied: kiwisolver>=1.3.1 in /usr/local/lib/python3.11/dist-packages (from matplotlib) (1.4.8)\n",
            "Requirement already satisfied: packaging>=20.0 in /usr/local/lib/python3.11/dist-packages (from matplotlib) (24.2)\n",
            "Requirement already satisfied: pillow>=8 in /usr/local/lib/python3.11/dist-packages (from matplotlib) (11.2.1)\n",
            "Requirement already satisfied: pyparsing>=2.3.1 in /usr/local/lib/python3.11/dist-packages (from matplotlib) (3.2.3)\n",
            "Requirement already satisfied: absl-py>=1.0.0 in /usr/local/lib/python3.11/dist-packages (from tensorflow) (1.4.0)\n",
            "Requirement already satisfied: astunparse>=1.6.0 in /usr/local/lib/python3.11/dist-packages (from tensorflow) (1.6.3)\n",
            "Requirement already satisfied: flatbuffers>=24.3.25 in /usr/local/lib/python3.11/dist-packages (from tensorflow) (25.2.10)\n",
            "Requirement already satisfied: gast!=0.5.0,!=0.5.1,!=0.5.2,>=0.2.1 in /usr/local/lib/python3.11/dist-packages (from tensorflow) (0.6.0)\n",
            "Requirement already satisfied: google-pasta>=0.1.1 in /usr/local/lib/python3.11/dist-packages (from tensorflow) (0.2.0)\n",
            "Requirement already satisfied: libclang>=13.0.0 in /usr/local/lib/python3.11/dist-packages (from tensorflow) (18.1.1)\n",
            "Requirement already satisfied: opt-einsum>=2.3.2 in /usr/local/lib/python3.11/dist-packages (from tensorflow) (3.4.0)\n",
            "Requirement already satisfied: protobuf!=4.21.0,!=4.21.1,!=4.21.2,!=4.21.3,!=4.21.4,!=4.21.5,<6.0.0dev,>=3.20.3 in /usr/local/lib/python3.11/dist-packages (from tensorflow) (5.29.4)\n",
            "Requirement already satisfied: requests<3,>=2.21.0 in /usr/local/lib/python3.11/dist-packages (from tensorflow) (2.32.3)\n",
            "Requirement already satisfied: setuptools in /usr/local/lib/python3.11/dist-packages (from tensorflow) (75.2.0)\n",
            "Requirement already satisfied: six>=1.12.0 in /usr/local/lib/python3.11/dist-packages (from tensorflow) (1.17.0)\n",
            "Requirement already satisfied: termcolor>=1.1.0 in /usr/local/lib/python3.11/dist-packages (from tensorflow) (3.1.0)\n",
            "Requirement already satisfied: typing-extensions>=3.6.6 in /usr/local/lib/python3.11/dist-packages (from tensorflow) (4.13.2)\n",
            "Requirement already satisfied: wrapt>=1.11.0 in /usr/local/lib/python3.11/dist-packages (from tensorflow) (1.17.2)\n",
            "Requirement already satisfied: grpcio<2.0,>=1.24.3 in /usr/local/lib/python3.11/dist-packages (from tensorflow) (1.71.0)\n",
            "Requirement already satisfied: tensorboard<2.19,>=2.18 in /usr/local/lib/python3.11/dist-packages (from tensorflow) (2.18.0)\n",
            "Requirement already satisfied: keras>=3.5.0 in /usr/local/lib/python3.11/dist-packages (from tensorflow) (3.8.0)\n",
            "Requirement already satisfied: h5py>=3.11.0 in /usr/local/lib/python3.11/dist-packages (from tensorflow) (3.13.0)\n",
            "Requirement already satisfied: ml-dtypes<0.5.0,>=0.4.0 in /usr/local/lib/python3.11/dist-packages (from tensorflow) (0.4.1)\n",
            "Requirement already satisfied: tensorflow-io-gcs-filesystem>=0.23.1 in /usr/local/lib/python3.11/dist-packages (from tensorflow) (0.37.1)\n",
            "Requirement already satisfied: wheel<1.0,>=0.23.0 in /usr/local/lib/python3.11/dist-packages (from astunparse>=1.6.0->tensorflow) (0.45.1)\n",
            "Requirement already satisfied: rich in /usr/local/lib/python3.11/dist-packages (from keras>=3.5.0->tensorflow) (13.9.4)\n",
            "Requirement already satisfied: namex in /usr/local/lib/python3.11/dist-packages (from keras>=3.5.0->tensorflow) (0.0.9)\n",
            "Requirement already satisfied: optree in /usr/local/lib/python3.11/dist-packages (from keras>=3.5.0->tensorflow) (0.15.0)\n",
            "Requirement already satisfied: charset-normalizer<4,>=2 in /usr/local/lib/python3.11/dist-packages (from requests<3,>=2.21.0->tensorflow) (3.4.2)\n",
            "Requirement already satisfied: idna<4,>=2.5 in /usr/local/lib/python3.11/dist-packages (from requests<3,>=2.21.0->tensorflow) (3.10)\n",
            "Requirement already satisfied: urllib3<3,>=1.21.1 in /usr/local/lib/python3.11/dist-packages (from requests<3,>=2.21.0->tensorflow) (2.4.0)\n",
            "Requirement already satisfied: certifi>=2017.4.17 in /usr/local/lib/python3.11/dist-packages (from requests<3,>=2.21.0->tensorflow) (2025.4.26)\n",
            "Requirement already satisfied: markdown>=2.6.8 in /usr/local/lib/python3.11/dist-packages (from tensorboard<2.19,>=2.18->tensorflow) (3.8)\n",
            "Requirement already satisfied: tensorboard-data-server<0.8.0,>=0.7.0 in /usr/local/lib/python3.11/dist-packages (from tensorboard<2.19,>=2.18->tensorflow) (0.7.2)\n",
            "Requirement already satisfied: werkzeug>=1.0.1 in /usr/local/lib/python3.11/dist-packages (from tensorboard<2.19,>=2.18->tensorflow) (3.1.3)\n",
            "Requirement already satisfied: MarkupSafe>=2.1.1 in /usr/local/lib/python3.11/dist-packages (from werkzeug>=1.0.1->tensorboard<2.19,>=2.18->tensorflow) (3.0.2)\n",
            "Requirement already satisfied: markdown-it-py>=2.2.0 in /usr/local/lib/python3.11/dist-packages (from rich->keras>=3.5.0->tensorflow) (3.0.0)\n",
            "Requirement already satisfied: pygments<3.0.0,>=2.13.0 in /usr/local/lib/python3.11/dist-packages (from rich->keras>=3.5.0->tensorflow) (2.19.1)\n",
            "Requirement already satisfied: mdurl~=0.1 in /usr/local/lib/python3.11/dist-packages (from markdown-it-py>=2.2.0->rich->keras>=3.5.0->tensorflow) (0.1.2)\n"
          ]
        }
      ],
      "source": [
        "pip install xgboost scikit-learn pandas matplotlib seaborn tensorflow"
      ]
    },
    {
      "cell_type": "markdown",
      "source": [
        "# **📥 Load Dataset**\n",
        "To load the NSL-KDD dataset from a CSV file into a Pandas DataFrame and examine its size, column names, and sample records."
      ],
      "metadata": {
        "id": "hd1qyPN1xHsT"
      }
    },
    {
      "cell_type": "code",
      "source": [
        "import pandas as pd\n",
        "\n",
        "df = pd.read_csv('NSL_KDD_master.csv')\n",
        "df.shape, df.columns, df.head()"
      ],
      "metadata": {
        "id": "7SSYobISxMsl",
        "colab": {
          "base_uri": "https://localhost:8080/"
        },
        "outputId": "47aefc78-e743-45e0-e6c9-b9d313764f8c"
      },
      "execution_count": 83,
      "outputs": [
        {
          "output_type": "execute_result",
          "data": {
            "text/plain": [
              "((125972, 45),\n",
              " Index(['duration', 'protocol_type', 'service', 'flag', 'src_bytes',\n",
              "        'dst_bytes', 'land', 'wrong_fragment', 'urgent', 'hot',\n",
              "        'num_failed_logins', 'logged_in', 'num_compromised', 'root_shell',\n",
              "        'su_attempted', 'num_root', 'num_file_creations', 'num_shells',\n",
              "        'num_access_files', 'num_outbound_cmds', 'is_host_login',\n",
              "        'is_guest_login', 'count', 'srv_count', 'serror_rate',\n",
              "        'srv_serror_rate', 'rerror_rate', 'srv_rerror_rate', 'same_srv_rate',\n",
              "        'diff_srv_rate', 'srv_diff_host_rate', 'dst_host_count',\n",
              "        'dst_host_srv_count', 'dst_host_same_srv_rate',\n",
              "        'dst_host_diff_srv_rate', 'dst_host_same_src_port_rate',\n",
              "        'dst_host_srv_diff_host_rate', 'dst_host_serror_rate',\n",
              "        'dst_host_srv_serror_rate', 'dst_host_rerror_rate',\n",
              "        'dst_host_srv_rerror_rate', 'attack', 'level', 'attack_flag',\n",
              "        'attack_map'],\n",
              "       dtype='object'),\n",
              "    duration protocol_type  service flag  src_bytes  dst_bytes  land  \\\n",
              " 0         0           udp    other   SF        146          0     0   \n",
              " 1         0           tcp  private   S0          0          0     0   \n",
              " 2         0           tcp     http   SF        232       8153     0   \n",
              " 3         0           tcp     http   SF        199        420     0   \n",
              " 4         0           tcp  private  REJ          0          0     0   \n",
              " \n",
              "    wrong_fragment  urgent  hot  ...  dst_host_same_src_port_rate  \\\n",
              " 0               0       0    0  ...                         0.88   \n",
              " 1               0       0    0  ...                         0.00   \n",
              " 2               0       0    0  ...                         0.03   \n",
              " 3               0       0    0  ...                         0.00   \n",
              " 4               0       0    0  ...                         0.00   \n",
              " \n",
              "    dst_host_srv_diff_host_rate  dst_host_serror_rate  \\\n",
              " 0                         0.00                  0.00   \n",
              " 1                         0.00                  1.00   \n",
              " 2                         0.04                  0.03   \n",
              " 3                         0.00                  0.00   \n",
              " 4                         0.00                  0.00   \n",
              " \n",
              "    dst_host_srv_serror_rate  dst_host_rerror_rate  dst_host_srv_rerror_rate  \\\n",
              " 0                      0.00                   0.0                      0.00   \n",
              " 1                      1.00                   0.0                      0.00   \n",
              " 2                      0.01                   0.0                      0.01   \n",
              " 3                      0.00                   0.0                      0.00   \n",
              " 4                      0.00                   1.0                      1.00   \n",
              " \n",
              "     attack  level  attack_flag  attack_map  \n",
              " 0   normal     15            0           0  \n",
              " 1  neptune     19            1           1  \n",
              " 2   normal     21            0           0  \n",
              " 3   normal     21            0           0  \n",
              " 4  neptune     21            1           1  \n",
              " \n",
              " [5 rows x 45 columns])"
            ]
          },
          "metadata": {},
          "execution_count": 83
        }
      ]
    },
    {
      "cell_type": "markdown",
      "source": [
        "# **🧹 Data Cleaning**\n",
        "Common Methods\n",
        "1. Handling Missing Values\n",
        "2. Removing Duplicates\n",
        "3. Convert data types\n",
        "4. Standardizing Column Nammes\n",
        "5. Encoding Categorical Variables -- Label Encoding or One-Hot Encoding\n",
        "6. Outlier Detection and Removal\n",
        "7. Feature Scaling\n",
        "8. Dropping Unnecessary Columns"
      ],
      "metadata": {
        "id": "Y0k8CqGIxSAZ"
      }
    },
    {
      "cell_type": "code",
      "source": [
        "print (f\"Missing Values\"+\"\\n\" + \"-\"*20)\n",
        "\n",
        "#sum of null values per column\n",
        "df.isnull().sum()"
      ],
      "metadata": {
        "id": "xhMdJYg67jA2",
        "colab": {
          "base_uri": "https://localhost:8080/",
          "height": 1000
        },
        "outputId": "5d7ae89e-adc2-4792-ba94-7ee62d136eb7"
      },
      "execution_count": 84,
      "outputs": [
        {
          "output_type": "stream",
          "name": "stdout",
          "text": [
            "Missing Values\n",
            "--------------------\n"
          ]
        },
        {
          "output_type": "execute_result",
          "data": {
            "text/plain": [
              "duration                       0\n",
              "protocol_type                  0\n",
              "service                        0\n",
              "flag                           0\n",
              "src_bytes                      0\n",
              "dst_bytes                      0\n",
              "land                           0\n",
              "wrong_fragment                 0\n",
              "urgent                         0\n",
              "hot                            0\n",
              "num_failed_logins              0\n",
              "logged_in                      0\n",
              "num_compromised                0\n",
              "root_shell                     0\n",
              "su_attempted                   0\n",
              "num_root                       0\n",
              "num_file_creations             0\n",
              "num_shells                     0\n",
              "num_access_files               0\n",
              "num_outbound_cmds              0\n",
              "is_host_login                  0\n",
              "is_guest_login                 0\n",
              "count                          0\n",
              "srv_count                      0\n",
              "serror_rate                    0\n",
              "srv_serror_rate                0\n",
              "rerror_rate                    0\n",
              "srv_rerror_rate                0\n",
              "same_srv_rate                  0\n",
              "diff_srv_rate                  0\n",
              "srv_diff_host_rate             0\n",
              "dst_host_count                 0\n",
              "dst_host_srv_count             0\n",
              "dst_host_same_srv_rate         0\n",
              "dst_host_diff_srv_rate         0\n",
              "dst_host_same_src_port_rate    0\n",
              "dst_host_srv_diff_host_rate    0\n",
              "dst_host_serror_rate           0\n",
              "dst_host_srv_serror_rate       0\n",
              "dst_host_rerror_rate           0\n",
              "dst_host_srv_rerror_rate       0\n",
              "attack                         0\n",
              "level                          0\n",
              "attack_flag                    0\n",
              "attack_map                     0\n",
              "dtype: int64"
            ],
            "text/html": [
              "<div>\n",
              "<style scoped>\n",
              "    .dataframe tbody tr th:only-of-type {\n",
              "        vertical-align: middle;\n",
              "    }\n",
              "\n",
              "    .dataframe tbody tr th {\n",
              "        vertical-align: top;\n",
              "    }\n",
              "\n",
              "    .dataframe thead th {\n",
              "        text-align: right;\n",
              "    }\n",
              "</style>\n",
              "<table border=\"1\" class=\"dataframe\">\n",
              "  <thead>\n",
              "    <tr style=\"text-align: right;\">\n",
              "      <th></th>\n",
              "      <th>0</th>\n",
              "    </tr>\n",
              "  </thead>\n",
              "  <tbody>\n",
              "    <tr>\n",
              "      <th>duration</th>\n",
              "      <td>0</td>\n",
              "    </tr>\n",
              "    <tr>\n",
              "      <th>protocol_type</th>\n",
              "      <td>0</td>\n",
              "    </tr>\n",
              "    <tr>\n",
              "      <th>service</th>\n",
              "      <td>0</td>\n",
              "    </tr>\n",
              "    <tr>\n",
              "      <th>flag</th>\n",
              "      <td>0</td>\n",
              "    </tr>\n",
              "    <tr>\n",
              "      <th>src_bytes</th>\n",
              "      <td>0</td>\n",
              "    </tr>\n",
              "    <tr>\n",
              "      <th>dst_bytes</th>\n",
              "      <td>0</td>\n",
              "    </tr>\n",
              "    <tr>\n",
              "      <th>land</th>\n",
              "      <td>0</td>\n",
              "    </tr>\n",
              "    <tr>\n",
              "      <th>wrong_fragment</th>\n",
              "      <td>0</td>\n",
              "    </tr>\n",
              "    <tr>\n",
              "      <th>urgent</th>\n",
              "      <td>0</td>\n",
              "    </tr>\n",
              "    <tr>\n",
              "      <th>hot</th>\n",
              "      <td>0</td>\n",
              "    </tr>\n",
              "    <tr>\n",
              "      <th>num_failed_logins</th>\n",
              "      <td>0</td>\n",
              "    </tr>\n",
              "    <tr>\n",
              "      <th>logged_in</th>\n",
              "      <td>0</td>\n",
              "    </tr>\n",
              "    <tr>\n",
              "      <th>num_compromised</th>\n",
              "      <td>0</td>\n",
              "    </tr>\n",
              "    <tr>\n",
              "      <th>root_shell</th>\n",
              "      <td>0</td>\n",
              "    </tr>\n",
              "    <tr>\n",
              "      <th>su_attempted</th>\n",
              "      <td>0</td>\n",
              "    </tr>\n",
              "    <tr>\n",
              "      <th>num_root</th>\n",
              "      <td>0</td>\n",
              "    </tr>\n",
              "    <tr>\n",
              "      <th>num_file_creations</th>\n",
              "      <td>0</td>\n",
              "    </tr>\n",
              "    <tr>\n",
              "      <th>num_shells</th>\n",
              "      <td>0</td>\n",
              "    </tr>\n",
              "    <tr>\n",
              "      <th>num_access_files</th>\n",
              "      <td>0</td>\n",
              "    </tr>\n",
              "    <tr>\n",
              "      <th>num_outbound_cmds</th>\n",
              "      <td>0</td>\n",
              "    </tr>\n",
              "    <tr>\n",
              "      <th>is_host_login</th>\n",
              "      <td>0</td>\n",
              "    </tr>\n",
              "    <tr>\n",
              "      <th>is_guest_login</th>\n",
              "      <td>0</td>\n",
              "    </tr>\n",
              "    <tr>\n",
              "      <th>count</th>\n",
              "      <td>0</td>\n",
              "    </tr>\n",
              "    <tr>\n",
              "      <th>srv_count</th>\n",
              "      <td>0</td>\n",
              "    </tr>\n",
              "    <tr>\n",
              "      <th>serror_rate</th>\n",
              "      <td>0</td>\n",
              "    </tr>\n",
              "    <tr>\n",
              "      <th>srv_serror_rate</th>\n",
              "      <td>0</td>\n",
              "    </tr>\n",
              "    <tr>\n",
              "      <th>rerror_rate</th>\n",
              "      <td>0</td>\n",
              "    </tr>\n",
              "    <tr>\n",
              "      <th>srv_rerror_rate</th>\n",
              "      <td>0</td>\n",
              "    </tr>\n",
              "    <tr>\n",
              "      <th>same_srv_rate</th>\n",
              "      <td>0</td>\n",
              "    </tr>\n",
              "    <tr>\n",
              "      <th>diff_srv_rate</th>\n",
              "      <td>0</td>\n",
              "    </tr>\n",
              "    <tr>\n",
              "      <th>srv_diff_host_rate</th>\n",
              "      <td>0</td>\n",
              "    </tr>\n",
              "    <tr>\n",
              "      <th>dst_host_count</th>\n",
              "      <td>0</td>\n",
              "    </tr>\n",
              "    <tr>\n",
              "      <th>dst_host_srv_count</th>\n",
              "      <td>0</td>\n",
              "    </tr>\n",
              "    <tr>\n",
              "      <th>dst_host_same_srv_rate</th>\n",
              "      <td>0</td>\n",
              "    </tr>\n",
              "    <tr>\n",
              "      <th>dst_host_diff_srv_rate</th>\n",
              "      <td>0</td>\n",
              "    </tr>\n",
              "    <tr>\n",
              "      <th>dst_host_same_src_port_rate</th>\n",
              "      <td>0</td>\n",
              "    </tr>\n",
              "    <tr>\n",
              "      <th>dst_host_srv_diff_host_rate</th>\n",
              "      <td>0</td>\n",
              "    </tr>\n",
              "    <tr>\n",
              "      <th>dst_host_serror_rate</th>\n",
              "      <td>0</td>\n",
              "    </tr>\n",
              "    <tr>\n",
              "      <th>dst_host_srv_serror_rate</th>\n",
              "      <td>0</td>\n",
              "    </tr>\n",
              "    <tr>\n",
              "      <th>dst_host_rerror_rate</th>\n",
              "      <td>0</td>\n",
              "    </tr>\n",
              "    <tr>\n",
              "      <th>dst_host_srv_rerror_rate</th>\n",
              "      <td>0</td>\n",
              "    </tr>\n",
              "    <tr>\n",
              "      <th>attack</th>\n",
              "      <td>0</td>\n",
              "    </tr>\n",
              "    <tr>\n",
              "      <th>level</th>\n",
              "      <td>0</td>\n",
              "    </tr>\n",
              "    <tr>\n",
              "      <th>attack_flag</th>\n",
              "      <td>0</td>\n",
              "    </tr>\n",
              "    <tr>\n",
              "      <th>attack_map</th>\n",
              "      <td>0</td>\n",
              "    </tr>\n",
              "  </tbody>\n",
              "</table>\n",
              "</div><br><label><b>dtype:</b> int64</label>"
            ]
          },
          "metadata": {},
          "execution_count": 84
        }
      ]
    },
    {
      "cell_type": "code",
      "source": [
        "duplicates = df.duplicated()\n",
        "print(f\"Number of duplicate rows: {duplicates.sum()}\")\n",
        "\n",
        "df = df.dropna()"
      ],
      "metadata": {
        "id": "9069rUkexUyH",
        "colab": {
          "base_uri": "https://localhost:8080/"
        },
        "outputId": "220d4dcd-a74e-478d-deae-14c57e15f60f"
      },
      "execution_count": 85,
      "outputs": [
        {
          "output_type": "stream",
          "name": "stdout",
          "text": [
            "Number of duplicate rows: 0\n"
          ]
        }
      ]
    },
    {
      "cell_type": "code",
      "source": [
        "# Data Integrity Verification\n",
        "\n",
        "# Check for abnormalities in the 'duration' column\n",
        "abnormal_duration = df[(df['duration'] < 0)]\n",
        "\n",
        "# Output the abnormal duration for review\n",
        "print(\"Abnormal Duration:\")\n",
        "print(abnormal_duration)"
      ],
      "metadata": {
        "id": "auseNBEf7-eu",
        "colab": {
          "base_uri": "https://localhost:8080/"
        },
        "outputId": "84038f62-570f-4566-f128-44680957032d"
      },
      "execution_count": 86,
      "outputs": [
        {
          "output_type": "stream",
          "name": "stdout",
          "text": [
            "Abnormal Duration:\n",
            "Empty DataFrame\n",
            "Columns: [duration, protocol_type, service, flag, src_bytes, dst_bytes, land, wrong_fragment, urgent, hot, num_failed_logins, logged_in, num_compromised, root_shell, su_attempted, num_root, num_file_creations, num_shells, num_access_files, num_outbound_cmds, is_host_login, is_guest_login, count, srv_count, serror_rate, srv_serror_rate, rerror_rate, srv_rerror_rate, same_srv_rate, diff_srv_rate, srv_diff_host_rate, dst_host_count, dst_host_srv_count, dst_host_same_srv_rate, dst_host_diff_srv_rate, dst_host_same_src_port_rate, dst_host_srv_diff_host_rate, dst_host_serror_rate, dst_host_srv_serror_rate, dst_host_rerror_rate, dst_host_srv_rerror_rate, attack, level, attack_flag, attack_map]\n",
            "Index: []\n",
            "\n",
            "[0 rows x 45 columns]\n"
          ]
        }
      ]
    },
    {
      "cell_type": "markdown",
      "source": [
        "# **📌 Target Variable Distribution**\n",
        "What is the Target Variable?\n",
        "- The target variable in this classification task is attack_flag, which indicates whether a network connection record is normal (0) or an attack (1)\n",
        "- It uses .value_counts() to count the number of occurrences of each class:\n",
        "  - 0 = Normal Traffic\n",
        "  - 1 = Attack Traffic"
      ],
      "metadata": {
        "id": "uC5ngBw75-d8"
      }
    },
    {
      "cell_type": "code",
      "source": [
        "# Target Variable Distribution of the output\n",
        "Target_Y = df['attack_flag']\n",
        "Target_Y.value_counts()\n",
        "\n",
        "# Output (0 = Normal, 1 = Attack)"
      ],
      "metadata": {
        "colab": {
          "base_uri": "https://localhost:8080/",
          "height": 176
        },
        "id": "Eriqiw1P16ya",
        "outputId": "a8eabe3d-fc82-4df2-faee-a19aa5463565"
      },
      "execution_count": 87,
      "outputs": [
        {
          "output_type": "execute_result",
          "data": {
            "text/plain": [
              "attack_flag\n",
              "0    67342\n",
              "1    58630\n",
              "Name: count, dtype: int64"
            ],
            "text/html": [
              "<div>\n",
              "<style scoped>\n",
              "    .dataframe tbody tr th:only-of-type {\n",
              "        vertical-align: middle;\n",
              "    }\n",
              "\n",
              "    .dataframe tbody tr th {\n",
              "        vertical-align: top;\n",
              "    }\n",
              "\n",
              "    .dataframe thead th {\n",
              "        text-align: right;\n",
              "    }\n",
              "</style>\n",
              "<table border=\"1\" class=\"dataframe\">\n",
              "  <thead>\n",
              "    <tr style=\"text-align: right;\">\n",
              "      <th></th>\n",
              "      <th>count</th>\n",
              "    </tr>\n",
              "    <tr>\n",
              "      <th>attack_flag</th>\n",
              "      <th></th>\n",
              "    </tr>\n",
              "  </thead>\n",
              "  <tbody>\n",
              "    <tr>\n",
              "      <th>0</th>\n",
              "      <td>67342</td>\n",
              "    </tr>\n",
              "    <tr>\n",
              "      <th>1</th>\n",
              "      <td>58630</td>\n",
              "    </tr>\n",
              "  </tbody>\n",
              "</table>\n",
              "</div><br><label><b>dtype:</b> int64</label>"
            ]
          },
          "metadata": {},
          "execution_count": 87
        }
      ]
    },
    {
      "cell_type": "markdown",
      "source": [
        "# **Group Summary Statistics by Class**\n",
        "Objective: To understand how the feature dst_host_serror_rate behaves across different classes of the attack_flag target variable\n",
        "\n",
        "- ['dst_host_serror_rate'].describe(): Provides descriptive statistics (count, mean, std, min, quartiles, max) for each group\n",
        "\n",
        "Why it is Useful:\n",
        "- Helps identify whether a feature (like dst_host_serror_rate) is potentially discriminative.\n",
        "- Significant differences in mean or standard deviation between groups could indicate this feature is valuable for classification."
      ],
      "metadata": {
        "id": "WBznxw0n6X2Q"
      }
    },
    {
      "cell_type": "code",
      "source": [
        "# Assuming 'df' is your DataFrame\n",
        "# Grouping by 'attack_flag' and describing 'dst_host_serror_rate'\n",
        "category_stats = df.groupby('attack_flag')['dst_host_serror_rate'].describe()\n",
        "\n",
        "# Display the result\n",
        "print(category_stats)"
      ],
      "metadata": {
        "colab": {
          "base_uri": "https://localhost:8080/"
        },
        "id": "v6g0tQWy2laY",
        "outputId": "bc6420bc-efe9-4fcd-b336-d775b06fe0b9"
      },
      "execution_count": 88,
      "outputs": [
        {
          "output_type": "stream",
          "name": "stdout",
          "text": [
            "               count      mean       std  min  25%  50%  75%  max\n",
            "attack_flag                                                      \n",
            "0            67342.0  0.013930  0.092007  0.0  0.0  0.0  0.0  1.0\n",
            "1            58630.0  0.595177  0.484495  0.0  0.0  1.0  1.0  1.0\n"
          ]
        }
      ]
    },
    {
      "cell_type": "code",
      "source": [
        "# Compute the full correlation matrix (numerical features only)\n",
        "correlation_matrix = df.corr(numeric_only=True)\n",
        "\n",
        "# Correlation of all features with the target\n",
        "correlation_with_target = correlation_matrix['attack_flag'].sort_values(ascending=False)\n",
        "\n",
        "# Display the top 10 positively correlated features\n",
        "print(\"Top positively correlated features with attack_flag:\")\n",
        "print(correlation_with_target.head(10))\n",
        "\n",
        "# Display the top 10 negatively correlated features\n",
        "print(\"\\nTop negatively correlated features with attack_flag:\")\n",
        "print(correlation_with_target.tail(10))"
      ],
      "metadata": {
        "colab": {
          "base_uri": "https://localhost:8080/"
        },
        "id": "MLa5Lq_L4NDM",
        "outputId": "4d88d2ac-3448-4636-8f03-6f18775f4579"
      },
      "execution_count": 89,
      "outputs": [
        {
          "output_type": "stream",
          "name": "stdout",
          "text": [
            "Top positively correlated features with attack_flag:\n",
            "attack_flag                 1.000000\n",
            "attack_map                  0.861122\n",
            "dst_host_srv_serror_rate    0.654984\n",
            "dst_host_serror_rate        0.651840\n",
            "serror_rate                 0.650651\n",
            "srv_serror_rate             0.648287\n",
            "count                       0.576442\n",
            "dst_host_count              0.375051\n",
            "srv_rerror_rate             0.253502\n",
            "dst_host_srv_rerror_rate    0.253428\n",
            "Name: attack_flag, dtype: float64\n",
            "\n",
            "Top negatively correlated features with attack_flag:\n",
            "su_attempted             -0.022449\n",
            "num_access_files         -0.036701\n",
            "is_guest_login           -0.039280\n",
            "srv_diff_host_rate       -0.119380\n",
            "level                    -0.379707\n",
            "logged_in                -0.690181\n",
            "dst_host_same_srv_rate   -0.693813\n",
            "dst_host_srv_count       -0.722546\n",
            "same_srv_rate            -0.751912\n",
            "num_outbound_cmds              NaN\n",
            "Name: attack_flag, dtype: float64\n"
          ]
        }
      ]
    },
    {
      "cell_type": "code",
      "source": [
        "import pandas as pd\n",
        "import seaborn as sns\n",
        "import matplotlib.pyplot as plt\n",
        "\n",
        "# Compute correlation matrix (numeric features only)\n",
        "correlation_matrix = df.corr(numeric_only=True)\n",
        "\n",
        "# Get correlation of all features with the target variable\n",
        "correlation_with_target = correlation_matrix['attack_flag'].sort_values(ascending=False)\n",
        "\n",
        "# Select top 10 features (absolute correlation)\n",
        "top_features = correlation_with_target.abs().sort_values(ascending=False).head(10).index\n",
        "\n",
        "# Create heatmap for top correlated features\n",
        "plt.figure(figsize=(10, 8))\n",
        "sns.heatmap(df[top_features].corr(), annot=True, cmap='coolwarm', fmt=\".2f\", linewidths=0.5)\n",
        "plt.title(\"Correlation Matrix\")\n",
        "plt.show()"
      ],
      "metadata": {
        "colab": {
          "base_uri": "https://localhost:8080/",
          "height": 854
        },
        "id": "DHqx_BVk4fSZ",
        "outputId": "04a3be2f-37b8-45f4-9635-25490c4cb6bd"
      },
      "execution_count": 112,
      "outputs": [
        {
          "output_type": "display_data",
          "data": {
            "text/plain": [
              "<Figure size 1000x800 with 2 Axes>"
            ],
            "image/png": "[encoded data removed]"
          },
          "metadata": {}
        }
      ]
    },
    {
      "cell_type": "markdown",
      "source": [
        "**Feature Correlation Analysis with attack_flag**\n",
        "\n",
        "As part of the exploratory data analysis, we computed the correlation matrix of all numerical features with the binary target variable attack_flag, where 0 indicates normal network traffic and 1 indicates an attack.\n",
        "\n",
        "The primary goal of this notebook is to build and evaluate machine learning models for detecting network intrusions using the NSL-KDD dataset.\n",
        "- The task is framed as a binary classification problem:\n",
        "- attack_flag = 0 → Normal traffic\n",
        "- attack_flag = 1 → Malicious traffic (any kind of attack)\n",
        "\n",
        "The following features were identified as the *most highly potentially* correlated (positively or negatively) with attack_flag:\n",
        "\n",
        "1. dst_host_srv_count\n",
        "  - Definition: Number of connections to the same service as the current connection in the past two seconds, to the same destination host.\n",
        "  - Correlation Insight: This feature is positively correlated with attack instances, especially for attacks like Denial-of-Service (DoS), where multiple connections are rapidly attempted to the same service.\n",
        "\n",
        "2. dst_host_same_srv_rate\n",
        "  - Definition: Percentage of connections to the same service among all connections to the same host.\n",
        "  - Correlation Insight: Shows strong positive correlation with attacks. Attackers often target a specific service repeatedly, increasing this rate during an attack.\n",
        "\n",
        "3. logged_in\n",
        "  - Definition: Boolean feature indicating whether the user has successfully logged in (1) or not (0).\n",
        "  - Correlation Insight: Negatively correlated with attacks. Many attacks, particularly brute force or scanning types, do not result in a successful login, hence this feature serves as a useful discriminator.\n",
        "\n",
        "4. dst_host_srv_serror_rate\n",
        "  - Definition: Percentage of connections to the same service that have SYN errors (connection attempts that fail).\n",
        "  - Correlation Insight: Strong positive correlation with attacks. In DoS and port scan attacks, failed connection attempts are common, increasing this error rate.\n",
        "\n",
        "\n",
        "---\n",
        "\n",
        "\n",
        "\n",
        "Why Use attack_flag as the Target Variable?\n",
        "- **Simplicity & Interpretability**:\n",
        "Using attack_flag simplifies the classification problem and allows for quicker experimentation and easier interpretation of model performance.\n",
        "- **Effective for Intrusion Detection**:\n",
        "In many real-world applications, distinguishing between “normal” and “attack” traffic is the first and most critical step in network security.\n",
        "- **Balanced View**:\n",
        "Although the dataset is slightly imbalanced, attack_flag is suitable for building and comparing multiple machine learning and deep learning models.\n"
      ],
      "metadata": {
        "id": "wtevi6m5784g"
      }
    },
    {
      "cell_type": "markdown",
      "source": [
        "# **Label Encoding & Scaling**\n",
        "To convert categorical (non-numeric) labels into numeric form so they can be used by machine learning algorithms\n",
        "\n",
        "\n",
        "**Label Encoding** (Ordinal)\n",
        "- Assigns each unique category a number\n",
        "- e.g., 'normal' -> 1, 'attack' -> 0\n",
        "\n",
        "**One-Hot Encoding** (Nominal)\n",
        "- Creates new binary columns for each category\n",
        "- Use when categories have no order (e.g., protocol type: TCP, UDP, ICMP)\n",
        "\n",
        "**Feature Scaling**\n",
        "To bring all numeric features into the same scale, usually between 0-1 or mean=0, std=1.\n"
      ],
      "metadata": {
        "id": "74LMPTNi0if4"
      }
    },
    {
      "cell_type": "code",
      "source": [
        "from sklearn.preprocessing import LabelEncoder, StandardScaler\n",
        "\n",
        "categorical_cols = df.select_dtypes(include=['object']).columns\n",
        "le = LabelEncoder()\n",
        "for col in categorical_cols:\n",
        "    df[col] = le.fit_transform(df[col])\n",
        "\n",
        "X = df.drop(['attack_flag'], axis=1)\n",
        "y = df['attack_flag']\n",
        "\n",
        "scaler = StandardScaler()\n",
        "X_scaled = scaler.fit_transform(X)\n",
        "df"
      ],
      "metadata": {
        "id": "yWuGjPSr0lDv",
        "colab": {
          "base_uri": "https://localhost:8080/",
          "height": 439
        },
        "outputId": "fc8691dc-0980-4a0d-e6b8-819b03530e5f"
      },
      "execution_count": 91,
      "outputs": [
        {
          "output_type": "execute_result",
          "data": {
            "text/plain": [
              "        duration  protocol_type  service  flag  src_bytes  dst_bytes  land  \\\n",
              "0              0              2       44     9        146          0     0   \n",
              "1              0              1       49     5          0          0     0   \n",
              "2              0              1       24     9        232       8153     0   \n",
              "3              0              1       24     9        199        420     0   \n",
              "4              0              1       49     1          0          0     0   \n",
              "...          ...            ...      ...   ...        ...        ...   ...   \n",
              "125967         0              1       49     5          0          0     0   \n",
              "125968         8              2       49     9        105        145     0   \n",
              "125969         0              1       54     9       2231        384     0   \n",
              "125970         0              1       30     5          0          0     0   \n",
              "125971         0              1       20     9        151          0     0   \n",
              "\n",
              "        wrong_fragment  urgent  hot  ...  dst_host_same_src_port_rate  \\\n",
              "0                    0       0    0  ...                         0.88   \n",
              "1                    0       0    0  ...                         0.00   \n",
              "2                    0       0    0  ...                         0.03   \n",
              "3                    0       0    0  ...                         0.00   \n",
              "4                    0       0    0  ...                         0.00   \n",
              "...                ...     ...  ...  ...                          ...   \n",
              "125967               0       0    0  ...                         0.00   \n",
              "125968               0       0    0  ...                         0.01   \n",
              "125969               0       0    0  ...                         0.00   \n",
              "125970               0       0    0  ...                         0.00   \n",
              "125971               0       0    0  ...                         0.30   \n",
              "\n",
              "        dst_host_srv_diff_host_rate  dst_host_serror_rate  \\\n",
              "0                              0.00                  0.00   \n",
              "1                              0.00                  1.00   \n",
              "2                              0.04                  0.03   \n",
              "3                              0.00                  0.00   \n",
              "4                              0.00                  0.00   \n",
              "...                             ...                   ...   \n",
              "125967                         0.00                  1.00   \n",
              "125968                         0.00                  0.00   \n",
              "125969                         0.00                  0.72   \n",
              "125970                         0.00                  1.00   \n",
              "125971                         0.00                  0.00   \n",
              "\n",
              "        dst_host_srv_serror_rate  dst_host_rerror_rate  \\\n",
              "0                           0.00                  0.00   \n",
              "1                           1.00                  0.00   \n",
              "2                           0.01                  0.00   \n",
              "3                           0.00                  0.00   \n",
              "4                           0.00                  1.00   \n",
              "...                          ...                   ...   \n",
              "125967                      1.00                  0.00   \n",
              "125968                      0.00                  0.00   \n",
              "125969                      0.00                  0.01   \n",
              "125970                      1.00                  0.00   \n",
              "125971                      0.00                  0.00   \n",
              "\n",
              "        dst_host_srv_rerror_rate  attack  level  attack_flag  attack_map  \n",
              "0                           0.00      11     15            0           0  \n",
              "1                           0.00       9     19            1           1  \n",
              "2                           0.01      11     21            0           0  \n",
              "3                           0.00      11     21            0           0  \n",
              "4                           1.00       9     21            1           1  \n",
              "...                          ...     ...    ...          ...         ...  \n",
              "125967                      0.00       9     20            1           1  \n",
              "125968                      0.00      11     21            0           0  \n",
              "125969                      0.00      11     18            0           0  \n",
              "125970                      0.00       9     20            1           1  \n",
              "125971                      0.00      11     21            0           0  \n",
              "\n",
              "[125972 rows x 45 columns]"
            ],
            "text/html": [
              "\n",
              "  <div id=\"df-7de09731-629e-4440-ac7d-3b193ce0964a\" class=\"colab-df-container\">\n",
              "    <div>\n",
              "<style scoped>\n",
              "    .dataframe tbody tr th:only-of-type {\n",
              "        vertical-align: middle;\n",
              "    }\n",
              "\n",
              "    .dataframe tbody tr th {\n",
              "        vertical-align: top;\n",
              "    }\n",
              "\n",
              "    .dataframe thead th {\n",
              "        text-align: right;\n",
              "    }\n",
              "</style>\n",
              "<table border=\"1\" class=\"dataframe\">\n",
              "  <thead>\n",
              "    <tr style=\"text-align: right;\">\n",
              "      <th></th>\n",
              "      <th>duration</th>\n",
              "      <th>protocol_type</th>\n",
              "      <th>service</th>\n",
              "      <th>flag</th>\n",
              "      <th>src_bytes</th>\n",
              "      <th>dst_bytes</th>\n",
              "      <th>land</th>\n",
              "      <th>wrong_fragment</th>\n",
              "      <th>urgent</th>\n",
              "      <th>hot</th>\n",
              "      <th>...</th>\n",
              "      <th>dst_host_same_src_port_rate</th>\n",
              "      <th>dst_host_srv_diff_host_rate</th>\n",
              "      <th>dst_host_serror_rate</th>\n",
              "      <th>dst_host_srv_serror_rate</th>\n",
              "      <th>dst_host_rerror_rate</th>\n",
              "      <th>dst_host_srv_rerror_rate</th>\n",
              "      <th>attack</th>\n",
              "      <th>level</th>\n",
              "      <th>attack_flag</th>\n",
              "      <th>attack_map</th>\n",
              "    </tr>\n",
              "  </thead>\n",
              "  <tbody>\n",
              "    <tr>\n",
              "      <th>0</th>\n",
              "      <td>0</td>\n",
              "      <td>2</td>\n",
              "      <td>44</td>\n",
              "      <td>9</td>\n",
              "      <td>146</td>\n",
              "      <td>0</td>\n",
              "      <td>0</td>\n",
              "      <td>0</td>\n",
              "      <td>0</td>\n",
              "      <td>0</td>\n",
              "      <td>...</td>\n",
              "      <td>0.88</td>\n",
              "      <td>0.00</td>\n",
              "      <td>0.00</td>\n",
              "      <td>0.00</td>\n",
              "      <td>0.00</td>\n",
              "      <td>0.00</td>\n",
              "      <td>11</td>\n",
              "      <td>15</td>\n",
              "      <td>0</td>\n",
              "      <td>0</td>\n",
              "    </tr>\n",
              "    <tr>\n",
              "      <th>1</th>\n",
              "      <td>0</td>\n",
              "      <td>1</td>\n",
              "      <td>49</td>\n",
              "      <td>5</td>\n",
              "      <td>0</td>\n",
              "      <td>0</td>\n",
              "      <td>0</td>\n",
              "      <td>0</td>\n",
              "      <td>0</td>\n",
              "      <td>0</td>\n",
              "      <td>...</td>\n",
              "      <td>0.00</td>\n",
              "      <td>0.00</td>\n",
              "      <td>1.00</td>\n",
              "      <td>1.00</td>\n",
              "      <td>0.00</td>\n",
              "      <td>0.00</td>\n",
              "      <td>9</td>\n",
              "      <td>19</td>\n",
              "      <td>1</td>\n",
              "      <td>1</td>\n",
              "    </tr>\n",
              "    <tr>\n",
              "      <th>2</th>\n",
              "      <td>0</td>\n",
              "      <td>1</td>\n",
              "      <td>24</td>\n",
              "      <td>9</td>\n",
              "      <td>232</td>\n",
              "      <td>8153</td>\n",
              "      <td>0</td>\n",
              "      <td>0</td>\n",
              "      <td>0</td>\n",
              "      <td>0</td>\n",
              "      <td>...</td>\n",
              "      <td>0.03</td>\n",
              "      <td>0.04</td>\n",
              "      <td>0.03</td>\n",
              "      <td>0.01</td>\n",
              "      <td>0.00</td>\n",
              "      <td>0.01</td>\n",
              "      <td>11</td>\n",
              "      <td>21</td>\n",
              "      <td>0</td>\n",
              "      <td>0</td>\n",
              "    </tr>\n",
              "    <tr>\n",
              "      <th>3</th>\n",
              "      <td>0</td>\n",
              "      <td>1</td>\n",
              "      <td>24</td>\n",
              "      <td>9</td>\n",
              "      <td>199</td>\n",
              "      <td>420</td>\n",
              "      <td>0</td>\n",
              "      <td>0</td>\n",
              "      <td>0</td>\n",
              "      <td>0</td>\n",
              "      <td>...</td>\n",
              "      <td>0.00</td>\n",
              "      <td>0.00</td>\n",
              "      <td>0.00</td>\n",
              "      <td>0.00</td>\n",
              "      <td>0.00</td>\n",
              "      <td>0.00</td>\n",
              "      <td>11</td>\n",
              "      <td>21</td>\n",
              "      <td>0</td>\n",
              "      <td>0</td>\n",
              "    </tr>\n",
              "    <tr>\n",
              "      <th>4</th>\n",
              "      <td>0</td>\n",
              "      <td>1</td>\n",
              "      <td>49</td>\n",
              "      <td>1</td>\n",
              "      <td>0</td>\n",
              "      <td>0</td>\n",
              "      <td>0</td>\n",
              "      <td>0</td>\n",
              "      <td>0</td>\n",
              "      <td>0</td>\n",
              "      <td>...</td>\n",
              "      <td>0.00</td>\n",
              "      <td>0.00</td>\n",
              "      <td>0.00</td>\n",
              "      <td>0.00</td>\n",
              "      <td>1.00</td>\n",
              "      <td>1.00</td>\n",
              "      <td>9</td>\n",
              "      <td>21</td>\n",
              "      <td>1</td>\n",
              "      <td>1</td>\n",
              "    </tr>\n",
              "    <tr>\n",
              "      <th>...</th>\n",
              "      <td>...</td>\n",
              "      <td>...</td>\n",
              "      <td>...</td>\n",
              "      <td>...</td>\n",
              "      <td>...</td>\n",
              "      <td>...</td>\n",
              "      <td>...</td>\n",
              "      <td>...</td>\n",
              "      <td>...</td>\n",
              "      <td>...</td>\n",
              "      <td>...</td>\n",
              "      <td>...</td>\n",
              "      <td>...</td>\n",
              "      <td>...</td>\n",
              "      <td>...</td>\n",
              "      <td>...</td>\n",
              "      <td>...</td>\n",
              "      <td>...</td>\n",
              "      <td>...</td>\n",
              "      <td>...</td>\n",
              "      <td>...</td>\n",
              "    </tr>\n",
              "    <tr>\n",
              "      <th>125967</th>\n",
              "      <td>0</td>\n",
              "      <td>1</td>\n",
              "      <td>49</td>\n",
              "      <td>5</td>\n",
              "      <td>0</td>\n",
              "      <td>0</td>\n",
              "      <td>0</td>\n",
              "      <td>0</td>\n",
              "      <td>0</td>\n",
              "      <td>0</td>\n",
              "      <td>...</td>\n",
              "      <td>0.00</td>\n",
              "      <td>0.00</td>\n",
              "      <td>1.00</td>\n",
              "      <td>1.00</td>\n",
              "      <td>0.00</td>\n",
              "      <td>0.00</td>\n",
              "      <td>9</td>\n",
              "      <td>20</td>\n",
              "      <td>1</td>\n",
              "      <td>1</td>\n",
              "    </tr>\n",
              "    <tr>\n",
              "      <th>125968</th>\n",
              "      <td>8</td>\n",
              "      <td>2</td>\n",
              "      <td>49</td>\n",
              "      <td>9</td>\n",
              "      <td>105</td>\n",
              "      <td>145</td>\n",
              "      <td>0</td>\n",
              "      <td>0</td>\n",
              "      <td>0</td>\n",
              "      <td>0</td>\n",
              "      <td>...</td>\n",
              "      <td>0.01</td>\n",
              "      <td>0.00</td>\n",
              "      <td>0.00</td>\n",
              "      <td>0.00</td>\n",
              "      <td>0.00</td>\n",
              "      <td>0.00</td>\n",
              "      <td>11</td>\n",
              "      <td>21</td>\n",
              "      <td>0</td>\n",
              "      <td>0</td>\n",
              "    </tr>\n",
              "    <tr>\n",
              "      <th>125969</th>\n",
              "      <td>0</td>\n",
              "      <td>1</td>\n",
              "      <td>54</td>\n",
              "      <td>9</td>\n",
              "      <td>2231</td>\n",
              "      <td>384</td>\n",
              "      <td>0</td>\n",
              "      <td>0</td>\n",
              "      <td>0</td>\n",
              "      <td>0</td>\n",
              "      <td>...</td>\n",
              "      <td>0.00</td>\n",
              "      <td>0.00</td>\n",
              "      <td>0.72</td>\n",
              "      <td>0.00</td>\n",
              "      <td>0.01</td>\n",
              "      <td>0.00</td>\n",
              "      <td>11</td>\n",
              "      <td>18</td>\n",
              "      <td>0</td>\n",
              "      <td>0</td>\n",
              "    </tr>\n",
              "    <tr>\n",
              "      <th>125970</th>\n",
              "      <td>0</td>\n",
              "      <td>1</td>\n",
              "      <td>30</td>\n",
              "      <td>5</td>\n",
              "      <td>0</td>\n",
              "      <td>0</td>\n",
              "      <td>0</td>\n",
              "      <td>0</td>\n",
              "      <td>0</td>\n",
              "      <td>0</td>\n",
              "      <td>...</td>\n",
              "      <td>0.00</td>\n",
              "      <td>0.00</td>\n",
              "      <td>1.00</td>\n",
              "      <td>1.00</td>\n",
              "      <td>0.00</td>\n",
              "      <td>0.00</td>\n",
              "      <td>9</td>\n",
              "      <td>20</td>\n",
              "      <td>1</td>\n",
              "      <td>1</td>\n",
              "    </tr>\n",
              "    <tr>\n",
              "      <th>125971</th>\n",
              "      <td>0</td>\n",
              "      <td>1</td>\n",
              "      <td>20</td>\n",
              "      <td>9</td>\n",
              "      <td>151</td>\n",
              "      <td>0</td>\n",
              "      <td>0</td>\n",
              "      <td>0</td>\n",
              "      <td>0</td>\n",
              "      <td>0</td>\n",
              "      <td>...</td>\n",
              "      <td>0.30</td>\n",
              "      <td>0.00</td>\n",
              "      <td>0.00</td>\n",
              "      <td>0.00</td>\n",
              "      <td>0.00</td>\n",
              "      <td>0.00</td>\n",
              "      <td>11</td>\n",
              "      <td>21</td>\n",
              "      <td>0</td>\n",
              "      <td>0</td>\n",
              "    </tr>\n",
              "  </tbody>\n",
              "</table>\n",
              "<p>125972 rows × 45 columns</p>\n",
              "</div>\n",
              "    <div class=\"colab-df-buttons\">\n",
              "\n",
              "  <div class=\"colab-df-container\">\n",
              "    <button class=\"colab-df-convert\" onclick=\"convertToInteractive('df-7de09731-629e-4440-ac7d-3b193ce0964a')\"\n",
              "            title=\"Convert this dataframe to an interactive table.\"\n",
              "            style=\"display:none;\">\n",
              "\n",
              "  <svg xmlns=\"http://www.w3.org/2000/svg\" height=\"24px\" viewBox=\"0 -960 960 960\">\n",
              "    <path d=\"M120-120v-720h720v720H120Zm60-500h600v-160H180v160Zm220 220h160v-160H400v160Zm0 220h160v-160H400v160ZM180-400h160v-160H180v160Zm440 0h160v-160H620v160ZM180-180h160v-160H180v160Zm440 0h160v-160H620v160Z\"/>\n",
              "  </svg>\n",
              "    </button>\n",
              "\n",
              "  <style>\n",
              "    .colab-df-container {\n",
              "      display:flex;\n",
              "      gap: 12px;\n",
              "    }\n",
              "\n",
              "    .colab-df-convert {\n",
              "      background-color: #E8F0FE;\n",
              "      border: none;\n",
              "      border-radius: 50%;\n",
              "      cursor: pointer;\n",
              "      display: none;\n",
              "      fill: #1967D2;\n",
              "      height: 32px;\n",
              "      padding: 0 0 0 0;\n",
              "      width: 32px;\n",
              "    }\n",
              "\n",
              "    .colab-df-convert:hover {\n",
              "      background-color: #E2EBFA;\n",
              "      box-shadow: 0px 1px 2px rgba(60, 64, 67, 0.3), 0px 1px 3px 1px rgba(60, 64, 67, 0.15);\n",
              "      fill: #174EA6;\n",
              "    }\n",
              "\n",
              "    .colab-df-buttons div {\n",
              "      margin-bottom: 4px;\n",
              "    }\n",
              "\n",
              "    [theme=dark] .colab-df-convert {\n",
              "      background-color: #3B4455;\n",
              "      fill: #D2E3FC;\n",
              "    }\n",
              "\n",
              "    [theme=dark] .colab-df-convert:hover {\n",
              "      background-color: #434B5C;\n",
              "      box-shadow: 0px 1px 3px 1px rgba(0, 0, 0, 0.15);\n",
              "      filter: drop-shadow(0px 1px 2px rgba(0, 0, 0, 0.3));\n",
              "      fill: #FFFFFF;\n",
              "    }\n",
              "  </style>\n",
              "\n",
              "    <script>\n",
              "      const buttonEl =\n",
              "        document.querySelector('#df-7de09731-629e-4440-ac7d-3b193ce0964a button.colab-df-convert');\n",
              "      buttonEl.style.display =\n",
              "        google.colab.kernel.accessAllowed ? 'block' : 'none';\n",
              "\n",
              "      async function convertToInteractive(key) {\n",
              "        const element = document.querySelector('#df-7de09731-629e-4440-ac7d-3b193ce0964a');\n",
              "        const dataTable =\n",
              "          await google.colab.kernel.invokeFunction('convertToInteractive',\n",
              "                                                    [key], {});\n",
              "        if (!dataTable) return;\n",
              "\n",
              "        const docLinkHtml = 'Like what you see? Visit the ' +\n",
              "          '<a target=\"_blank\" href=https://colab.research.google.com/notebooks/data_table.ipynb>data table notebook</a>'\n",
              "          + ' to learn more about interactive tables.';\n",
              "        element.innerHTML = '';\n",
              "        dataTable['output_type'] = 'display_data';\n",
              "        await google.colab.output.renderOutput(dataTable, element);\n",
              "        const docLink = document.createElement('div');\n",
              "        docLink.innerHTML = docLinkHtml;\n",
              "        element.appendChild(docLink);\n",
              "      }\n",
              "    </script>\n",
              "  </div>\n",
              "\n",
              "\n",
              "    <div id=\"df-01d8bae5-6c68-428f-a59f-96f8ac23705e\">\n",
              "      <button class=\"colab-df-quickchart\" onclick=\"quickchart('df-01d8bae5-6c68-428f-a59f-96f8ac23705e')\"\n",
              "                title=\"Suggest charts\"\n",
              "                style=\"display:none;\">\n",
              "\n",
              "<svg xmlns=\"http://www.w3.org/2000/svg\" height=\"24px\"viewBox=\"0 0 24 24\"\n",
              "     width=\"24px\">\n",
              "    <g>\n",
              "        <path d=\"M19 3H5c-1.1 0-2 .9-2 2v14c0 1.1.9 2 2 2h14c1.1 0 2-.9 2-2V5c0-1.1-.9-2-2-2zM9 17H7v-7h2v7zm4 0h-2V7h2v10zm4 0h-2v-4h2v4z\"/>\n",
              "    </g>\n",
              "</svg>\n",
              "      </button>\n",
              "\n",
              "<style>\n",
              "  .colab-df-quickchart {\n",
              "      --bg-color: #E8F0FE;\n",
              "      --fill-color: #1967D2;\n",
              "      --hover-bg-color: #E2EBFA;\n",
              "      --hover-fill-color: #174EA6;\n",
              "      --disabled-fill-color: #AAA;\n",
              "      --disabled-bg-color: #DDD;\n",
              "  }\n",
              "\n",
              "  [theme=dark] .colab-df-quickchart {\n",
              "      --bg-color: #3B4455;\n",
              "      --fill-color: #D2E3FC;\n",
              "      --hover-bg-color: #434B5C;\n",
              "      --hover-fill-color: #FFFFFF;\n",
              "      --disabled-bg-color: #3B4455;\n",
              "      --disabled-fill-color: #666;\n",
              "  }\n",
              "\n",
              "  .colab-df-quickchart {\n",
              "    background-color: var(--bg-color);\n",
              "    border: none;\n",
              "    border-radius: 50%;\n",
              "    cursor: pointer;\n",
              "    display: none;\n",
              "    fill: var(--fill-color);\n",
              "    height: 32px;\n",
              "    padding: 0;\n",
              "    width: 32px;\n",
              "  }\n",
              "\n",
              "  .colab-df-quickchart:hover {\n",
              "    background-color: var(--hover-bg-color);\n",
              "    box-shadow: 0 1px 2px rgba(60, 64, 67, 0.3), 0 1px 3px 1px rgba(60, 64, 67, 0.15);\n",
              "    fill: var(--button-hover-fill-color);\n",
              "  }\n",
              "\n",
              "  .colab-df-quickchart-complete:disabled,\n",
              "  .colab-df-quickchart-complete:disabled:hover {\n",
              "    background-color: var(--disabled-bg-color);\n",
              "    fill: var(--disabled-fill-color);\n",
              "    box-shadow: none;\n",
              "  }\n",
              "\n",
              "  .colab-df-spinner {\n",
              "    border: 2px solid var(--fill-color);\n",
              "    border-color: transparent;\n",
              "    border-bottom-color: var(--fill-color);\n",
              "    animation:\n",
              "      spin 1s steps(1) infinite;\n",
              "  }\n",
              "\n",
              "  @keyframes spin {\n",
              "    0% {\n",
              "      border-color: transparent;\n",
              "      border-bottom-color: var(--fill-color);\n",
              "      border-left-color: var(--fill-color);\n",
              "    }\n",
              "    20% {\n",
              "      border-color: transparent;\n",
              "      border-left-color: var(--fill-color);\n",
              "      border-top-color: var(--fill-color);\n",
              "    }\n",
              "    30% {\n",
              "      border-color: transparent;\n",
              "      border-left-color: var(--fill-color);\n",
              "      border-top-color: var(--fill-color);\n",
              "      border-right-color: var(--fill-color);\n",
              "    }\n",
              "    40% {\n",
              "      border-color: transparent;\n",
              "      border-right-color: var(--fill-color);\n",
              "      border-top-color: var(--fill-color);\n",
              "    }\n",
              "    60% {\n",
              "      border-color: transparent;\n",
              "      border-right-color: var(--fill-color);\n",
              "    }\n",
              "    80% {\n",
              "      border-color: transparent;\n",
              "      border-right-color: var(--fill-color);\n",
              "      border-bottom-color: var(--fill-color);\n",
              "    }\n",
              "    90% {\n",
              "      border-color: transparent;\n",
              "      border-bottom-color: var(--fill-color);\n",
              "    }\n",
              "  }\n",
              "</style>\n",
              "\n",
              "      <script>\n",
              "        async function quickchart(key) {\n",
              "          const quickchartButtonEl =\n",
              "            document.querySelector('#' + key + ' button');\n",
              "          quickchartButtonEl.disabled = true;  // To prevent multiple clicks.\n",
              "          quickchartButtonEl.classList.add('colab-df-spinner');\n",
              "          try {\n",
              "            const charts = await google.colab.kernel.invokeFunction(\n",
              "                'suggestCharts', [key], {});\n",
              "          } catch (error) {\n",
              "            console.error('Error during call to suggestCharts:', error);\n",
              "          }\n",
              "          quickchartButtonEl.classList.remove('colab-df-spinner');\n",
              "          quickchartButtonEl.classList.add('colab-df-quickchart-complete');\n",
              "        }\n",
              "        (() => {\n",
              "          let quickchartButtonEl =\n",
              "            document.querySelector('#df-01d8bae5-6c68-428f-a59f-96f8ac23705e button');\n",
              "          quickchartButtonEl.style.display =\n",
              "            google.colab.kernel.accessAllowed ? 'block' : 'none';\n",
              "        })();\n",
              "      </script>\n",
              "    </div>\n",
              "\n",
              "  <div id=\"id_a0660d5e-75c1-422c-ba1b-5a595a72acbf\">\n",
              "    <style>\n",
              "      .colab-df-generate {\n",
              "        background-color: #E8F0FE;\n",
              "        border: none;\n",
              "        border-radius: 50%;\n",
              "        cursor: pointer;\n",
              "        display: none;\n",
              "        fill: #1967D2;\n",
              "        height: 32px;\n",
              "        padding: 0 0 0 0;\n",
              "        width: 32px;\n",
              "      }\n",
              "\n",
              "      .colab-df-generate:hover {\n",
              "        background-color: #E2EBFA;\n",
              "        box-shadow: 0px 1px 2px rgba(60, 64, 67, 0.3), 0px 1px 3px 1px rgba(60, 64, 67, 0.15);\n",
              "        fill: #174EA6;\n",
              "      }\n",
              "\n",
              "      [theme=dark] .colab-df-generate {\n",
              "        background-color: #3B4455;\n",
              "        fill: #D2E3FC;\n",
              "      }\n",
              "\n",
              "      [theme=dark] .colab-df-generate:hover {\n",
              "        background-color: #434B5C;\n",
              "        box-shadow: 0px 1px 3px 1px rgba(0, 0, 0, 0.15);\n",
              "        filter: drop-shadow(0px 1px 2px rgba(0, 0, 0, 0.3));\n",
              "        fill: #FFFFFF;\n",
              "      }\n",
              "    </style>\n",
              "    <button class=\"colab-df-generate\" onclick=\"generateWithVariable('df')\"\n",
              "            title=\"Generate code using this dataframe.\"\n",
              "            style=\"display:none;\">\n",
              "\n",
              "  <svg xmlns=\"http://www.w3.org/2000/svg\" height=\"24px\"viewBox=\"0 0 24 24\"\n",
              "       width=\"24px\">\n",
              "    <path d=\"M7,19H8.4L18.45,9,17,7.55,7,17.6ZM5,21V16.75L18.45,3.32a2,2,0,0,1,2.83,0l1.4,1.43a1.91,1.91,0,0,1,.58,1.4,1.91,1.91,0,0,1-.58,1.4L9.25,21ZM18.45,9,17,7.55Zm-12,3A5.31,5.31,0,0,0,4.9,8.1,5.31,5.31,0,0,0,1,6.5,5.31,5.31,0,0,0,4.9,4.9,5.31,5.31,0,0,0,6.5,1,5.31,5.31,0,0,0,8.1,4.9,5.31,5.31,0,0,0,12,6.5,5.46,5.46,0,0,0,6.5,12Z\"/>\n",
              "  </svg>\n",
              "    </button>\n",
              "    <script>\n",
              "      (() => {\n",
              "      const buttonEl =\n",
              "        document.querySelector('#id_a0660d5e-75c1-422c-ba1b-5a595a72acbf button.colab-df-generate');\n",
              "      buttonEl.style.display =\n",
              "        google.colab.kernel.accessAllowed ? 'block' : 'none';\n",
              "\n",
              "      buttonEl.onclick = () => {\n",
              "        google.colab.notebook.generateWithVariable('df');\n",
              "      }\n",
              "      })();\n",
              "    </script>\n",
              "  </div>\n",
              "\n",
              "    </div>\n",
              "  </div>\n"
            ],
            "application/vnd.google.colaboratory.intrinsic+json": {
              "type": "dataframe",
              "variable_name": "df"
            }
          },
          "metadata": {},
          "execution_count": 91
        }
      ]
    },
    {
      "cell_type": "markdown",
      "source": [
        "# **🔻 Dimensionality Reduction (PCA)**\n",
        "To reduce the number of input features (dimensions) while preserving as much important information (variance) in the dataset as possible.\n",
        "\n",
        "Why Use PCA?\n",
        "- Improve model performance and training time\n",
        "- Reduce overfitting\n",
        "- Visualize high-dimensional data (2D or 3D)\n",
        "- Handle multicollinearity (correlated features)\n"
      ],
      "metadata": {
        "id": "0IYQwM5mzl4P"
      }
    },
    {
      "cell_type": "code",
      "source": [
        "from sklearn.decomposition import PCA\n",
        "\n",
        "pca = PCA(n_components=20)\n",
        "X_pca = pca.fit_transform(X_scaled)\n",
        "print(\"Explained Variance:\", sum(pca.explained_variance_ratio_))"
      ],
      "metadata": {
        "id": "xHZoX-ls0M9J",
        "colab": {
          "base_uri": "https://localhost:8080/"
        },
        "outputId": "58f9d519-cf03-48ea-a63a-37f2bd271ab8"
      },
      "execution_count": 92,
      "outputs": [
        {
          "output_type": "stream",
          "name": "stdout",
          "text": [
            "Explained Variance: 0.8775582025555881\n"
          ]
        }
      ]
    },
    {
      "cell_type": "markdown",
      "source": [
        "# 🔀 Train-Test Split\n",
        "\n",
        "To split the dataset into training and testing subsets so that we can:\n",
        "- Train the model on one part (training set)\n",
        "- Evaluate its performance on unseen data (test set)\n",
        "\n",
        "Gives a more realistic evaluation of how your model performs on new data\n",
        "Ensures that your model generalizes well and is not just memorizing the data"
      ],
      "metadata": {
        "id": "jWqOyAVVzmln"
      }
    },
    {
      "cell_type": "code",
      "source": [
        "from sklearn.model_selection import train_test_split\n",
        "\n",
        "X_train, X_test, y_train, y_test = train_test_split(X_pca, y, stratify = y, test_size=0.2, random_state=42)"
      ],
      "metadata": {
        "id": "Obu8jxWl0L_W"
      },
      "execution_count": 93,
      "outputs": []
    },
    {
      "cell_type": "markdown",
      "source": [
        "# 🤖 Train Models\n",
        "Training a model means learning patterns from labeled data to generalize to unseen data\n",
        "\n",
        "Why it's important:\n",
        "1. Pattern Learning -- Models learn how input features relate to the target variable\n",
        "2. Generalization -- We want the model to perform well not just on training data, but also on new, unseen data\n",
        "3. Prediction -- Once trained, models can make real-time predictions automatically (e.g., spam filtering)\n"
      ],
      "metadata": {
        "id": "iYautTfyzoqW"
      }
    },
    {
      "cell_type": "markdown",
      "source": [
        "# 1. Logistic Regression\n",
        "Logistic Regression is a supervised machine learning algorithm used for binary classification tasks. Despite the name, it’s actually a classification model, not a regression model.\n",
        "\n",
        "It predicts the probability that an input belongs to a particular category (e.g., 0 or 1) using the logistic (sigmoid) function.\n",
        "\n",
        "Low C (strong regularization) → high bias (underfitting)\n",
        "- High C (weak regularization) → low bias but possibly high variance (overfitting)\n",
        "- The best C balances bias and variance (good generalization on test set)"
      ],
      "metadata": {
        "id": "GNAg7NvYzqfY"
      }
    },
    {
      "cell_type": "code",
      "source": [
        "!pip install joblib # Save and Load the Model"
      ],
      "metadata": {
        "colab": {
          "base_uri": "https://localhost:8080/"
        },
        "id": "iI_cXAUd9d-V",
        "outputId": "4da9a232-5fee-4ab1-db12-c091f8616aa6"
      },
      "execution_count": 94,
      "outputs": [
        {
          "output_type": "stream",
          "name": "stdout",
          "text": [
            "Requirement already satisfied: joblib in /usr/local/lib/python3.11/dist-packages (1.5.0)\n"
          ]
        }
      ]
    },
    {
      "cell_type": "code",
      "source": [
        "import numpy as np\n",
        "import matplotlib.pyplot as plt\n",
        "import seaborn as sns\n",
        "import joblib\n",
        "from sklearn.linear_model import LogisticRegression\n",
        "from sklearn.metrics import accuracy_score, confusion_matrix, ConfusionMatrixDisplay\n",
        "\n",
        "# List of C values to test\n",
        "C_values = [0.001, 0.01, 0.1, 1, 10, 100]\n",
        "train_accuracy_scores = []\n",
        "test_accuracy_scores = []\n",
        "log_models_list = []\n",
        "\n",
        "# Train model for each C value\n",
        "for c in C_values:\n",
        "    lr = LogisticRegression(C=c, max_iter=1000)\n",
        "    lr.fit(X_train, y_train)\n",
        "\n",
        "    y_train_pred = lr.predict(X_train)\n",
        "    y_test_pred = lr.predict(X_test)\n",
        "\n",
        "    train_accuracy_scores.append(accuracy_score(y_train, y_train_pred))\n",
        "    test_accuracy_scores.append(accuracy_score(y_test, y_test_pred))\n",
        "\n",
        "    log_models_list.append(lr)\n",
        "\n",
        "# Plot Bias-Variance Tradeoff\n",
        "plt.figure(figsize=(8, 5))\n",
        "plt.plot(C_values, train_accuracy_scores, label='Train Accuracy', marker='o')\n",
        "plt.plot(C_values, test_accuracy_scores, label='Test Accuracy', marker='o')\n",
        "plt.xscale('log')  # Because C values vary exponentially\n",
        "plt.xlabel('Regularization Strength (C)')\n",
        "plt.ylabel('Accuracy')\n",
        "plt.title('Accuracy curve for Logistic Regression')\n",
        "plt.legend()\n",
        "plt.grid(True)\n",
        "plt.show()\n",
        "\n",
        "# Identify the best model (based on highest test accuracy)\n",
        "best_index = np.argmax(test_accuracy_scores)\n",
        "best_C = C_values[best_index]\n",
        "best_model = log_models_list[best_index]\n",
        "\n",
        "print(f\"Best C value: {best_C}\")\n",
        "print(f\"Best Test Accuracy: {test_accuracy_scores[best_index]:.4f}\")\n",
        "\n",
        "# Plot Confusion Matrix for best model\n",
        "ConfusionMatrixDisplay.from_estimator(best_model, X_test, y_test, cmap='Blues')\n",
        "plt.title(f'Confusion Matrix (C = {best_C})')\n",
        "plt.show()\n",
        "\n",
        "# Save the model to a file\n",
        "joblib.dump(best_model, 'best_logistic_model.pkl')"
      ],
      "metadata": {
        "id": "jz7PN5Rz0Imh",
        "colab": {
          "base_uri": "https://localhost:8080/",
          "height": 998
        },
        "outputId": "ab2f889f-42be-4353-cfc7-ae919c036334"
      },
      "execution_count": 95,
      "outputs": [
        {
          "output_type": "display_data",
          "data": {
            "text/plain": [
              "<Figure size 800x500 with 1 Axes>"
            ],
            "image/png": "[encoded data removed]"
          },
          "metadata": {}
        },
        {
          "output_type": "stream",
          "name": "stdout",
          "text": [
            "Best C value: 100\n",
            "Best Test Accuracy: 0.9880\n"
          ]
        },
        {
          "output_type": "display_data",
          "data": {
            "text/plain": [
              "<Figure size 640x480 with 2 Axes>"
            ],
            "image/png": "[encoded data removed]"
          },
          "metadata": {}
        },
        {
          "output_type": "execute_result",
          "data": {
            "text/plain": [
              "['best_logistic_model.pkl']"
            ]
          },
          "metadata": {},
          "execution_count": 95
        }
      ]
    },
    {
      "cell_type": "markdown",
      "source": [
        "# 2. Random Forest\n",
        "Random Forest is an ensemble learning algorithm primarily used for classification and regression tasks. It builds multiple decision trees and merges them to get a more accurate and stable prediction.\n",
        "\n",
        "How It Works\n",
        "\n",
        "1.\tBagging (Bootstrap Aggregation):\n",
        "  - Random Forest creates multiple decision trees using random subsets of the training data (with replacement)\n",
        "  - This helps reduce variance and avoid overfitting\n",
        "2.\tRandom Feature Selection:\n",
        "\t- At each split in a tree, a random subset of features is considered, not all\n",
        "\t- This ensures the trees are decorrelated, improving generalization\n",
        "3.\tMajority Voting (for Classification):\n",
        "\t- Each tree gives a classification\n",
        "\t- The final prediction is based on majority vote from all the trees\n",
        "\n"
      ],
      "metadata": {
        "id": "xh21BktQztSY"
      }
    },
    {
      "cell_type": "code",
      "source": [
        "import numpy as np\n",
        "import matplotlib.pyplot as plt\n",
        "import seaborn as sns\n",
        "import joblib\n",
        "from sklearn.ensemble import RandomForestClassifier\n",
        "from sklearn.metrics import accuracy_score, ConfusionMatrixDisplay\n",
        "\n",
        "# List of max_depth values to test\n",
        "max_depth_values = [2, 4, 6, 8, 10, 12, 14, 16]\n",
        "train_accuracy_scores = []\n",
        "test_accuracy_scores = []\n",
        "rf_models_list = []\n",
        "\n",
        "# Train model for each max_depth\n",
        "for depth in max_depth_values:\n",
        "    rf = RandomForestClassifier(n_estimators=100, max_depth=depth, random_state=42)\n",
        "    rf.fit(X_train, y_train)\n",
        "\n",
        "    y_train_pred = rf.predict(X_train)\n",
        "    y_test_pred = rf.predict(X_test)\n",
        "\n",
        "    train_accuracy_scores.append(accuracy_score(y_train, y_train_pred))\n",
        "    test_accuracy_scores.append(accuracy_score(y_test, y_test_pred))\n",
        "\n",
        "    rf_models_list.append(rf)\n",
        "\n",
        "# Identify the best model (based on highest test accuracy)\n",
        "best_index = np.argmax(test_accuracy_scores)\n",
        "best_depth = max_depth_values[best_index]\n",
        "best_rf_model = rf_models_list[best_index]\n",
        "\n",
        "print(f\"Best max_depth: {best_depth}\")\n",
        "print(f\"Best Test Accuracy: {test_accuracy_scores[best_index]:.4f}\")\n",
        "\n",
        "# Save the best model\n",
        "joblib.dump(best_rf_model, 'best_random_forest_model.pkl')\n"
      ],
      "metadata": {
        "id": "Lq8Ac5VN0Gx-",
        "colab": {
          "base_uri": "https://localhost:8080/"
        },
        "outputId": "20342b2f-362a-4660-d07d-b403bb787210"
      },
      "execution_count": 96,
      "outputs": [
        {
          "output_type": "stream",
          "name": "stdout",
          "text": [
            "Best max_depth: 12\n",
            "Best Test Accuracy: 0.9999\n"
          ]
        },
        {
          "output_type": "execute_result",
          "data": {
            "text/plain": [
              "['best_random_forest_model.pkl']"
            ]
          },
          "metadata": {},
          "execution_count": 96
        }
      ]
    },
    {
      "cell_type": "code",
      "source": [
        "# Identify the best max_depth (based on test accuracy)\n",
        "best_index = np.argmax(test_accuracy_scores)\n",
        "best_depth = max_depth_values[best_index]\n",
        "best_rf_model = rf_models_list[best_index]\n",
        "\n",
        "print(f\"Best max_depth: {best_depth}\")\n",
        "print(f\"Best Test Accuracy: {test_accuracy_scores[best_index]:.4f}\")\n",
        "\n",
        "# Plot Confusion Matrix for the best model\n",
        "ConfusionMatrixDisplay.from_estimator(best_rf_model, X_test, y_test, cmap='Greens')\n",
        "plt.title(f'Random Forest Confusion Matrix (max_depth = {best_depth})')\n",
        "plt.show()"
      ],
      "metadata": {
        "id": "XWtHrkFB9jwA",
        "colab": {
          "base_uri": "https://localhost:8080/",
          "height": 506
        },
        "outputId": "2276db77-70af-4a93-b046-918d3de09400"
      },
      "execution_count": 97,
      "outputs": [
        {
          "output_type": "stream",
          "name": "stdout",
          "text": [
            "Best max_depth: 12\n",
            "Best Test Accuracy: 0.9999\n"
          ]
        },
        {
          "output_type": "display_data",
          "data": {
            "text/plain": [
              "<Figure size 640x480 with 2 Axes>"
            ],
            "image/png": "[encoded data removed]"
          },
          "metadata": {}
        }
      ]
    },
    {
      "cell_type": "markdown",
      "source": [
        "The confusion matrix shows excellent performance by the Random Forest model with max_depth = 12. Let’s break it down and then address overfitting or underfitting concerns.\n",
        "\n",
        "- True Negatives (TN): 13,469 → normal classified as normal\n",
        "- False Positives (FP): 0 → no normal misclassified as attack\n",
        "- False Negatives (FN): 3 → only 3 attacks misclassified as normal\n",
        "- True Positives (TP): 11,723 → attack correctly identified\n",
        "\n",
        "\n"
      ],
      "metadata": {
        "id": "os6RCj2sKx5B"
      }
    },
    {
      "cell_type": "markdown",
      "source": [
        "# 3. XGBoost\n",
        "XGBoost (Extreme Gradient Boosting) is an optimized, distributed gradient boosting library designed to be:\n",
        "- Highly efficient\n",
        "- Flexible\n",
        "- Portable\n",
        "\n",
        "It implements machine learning algorithms under the Gradient Boosting framework, and it’s known for its high performance, especially in structured/tabular data.\n",
        "\n",
        "**How It Works**\n",
        "\n",
        "XGBoost builds trees sequentially, where each new tree corrects the errors of the previous one by minimizing a loss function (like log loss or MSE) using gradient descent."
      ],
      "metadata": {
        "id": "qaQnHat4zwOx"
      }
    },
    {
      "cell_type": "code",
      "source": [
        "import matplotlib.pyplot as plt\n",
        "from sklearn.metrics import accuracy_score, ConfusionMatrixDisplay\n",
        "import xgboost as xgb\n",
        "import joblib\n",
        "import numpy as np\n",
        "\n",
        "# Range of n_estimators to try\n",
        "n_estimators_list = [10, 15, 20, 25, 30, 35, 40]\n",
        "train_accuracy_scores = []\n",
        "test_accuracy_scores = []\n",
        "xgb_models_list = []\n",
        "\n",
        "# Train XGBoost models with different n_estimators\n",
        "for n in n_estimators_list:\n",
        "    xgb_model = xgb.XGBClassifier(\n",
        "        n_estimators=n,\n",
        "        use_label_encoder=False,\n",
        "        eval_metric='logloss',\n",
        "        random_state=42\n",
        "    )\n",
        "    xgb_model.fit(X_train, y_train)\n",
        "\n",
        "    y_train_pred = xgb_model.predict(X_train)\n",
        "    y_test_pred = xgb_model.predict(X_test)\n",
        "\n",
        "    train_accuracy_scores.append(accuracy_score(y_train, y_train_pred))\n",
        "    test_accuracy_scores.append(accuracy_score(y_test, y_test_pred))\n",
        "\n",
        "    xgb_models_list.append(xgb_model)\n",
        "\n",
        "# Identify the best model based on highest test accuracy\n",
        "best_index = np.argmax(test_accuracy_scores)\n",
        "best_n = n_estimators_list[best_index]\n",
        "best_xgb_model = xgb_models_list[best_index]\n",
        "\n",
        "print(f\"Best n_estimators: {best_n}\")\n",
        "print(f\"Best Test Accuracy: {test_accuracy_scores[best_index]:.4f}\")\n",
        "\n",
        "# Save the best model\n",
        "joblib.dump(best_xgb_model, 'best_xgboost_model.pkl')"
      ],
      "metadata": {
        "id": "GdA9Ty9y0Dpq",
        "colab": {
          "base_uri": "https://localhost:8080/"
        },
        "outputId": "3396082d-6a23-4ffa-998d-dde205755a5e"
      },
      "execution_count": 110,
      "outputs": [
        {
          "output_type": "stream",
          "name": "stderr",
          "text": [
            "/usr/local/lib/python3.11/dist-packages/xgboost/core.py:158: UserWarning: [06:36:02] WARNING: /workspace/src/learner.cc:740: \n",
            "Parameters: { \"use_label_encoder\" } are not used.\n",
            "\n",
            "  warnings.warn(smsg, UserWarning)\n",
            "/usr/local/lib/python3.11/dist-packages/xgboost/core.py:158: UserWarning: [06:36:04] WARNING: /workspace/src/learner.cc:740: \n",
            "Parameters: { \"use_label_encoder\" } are not used.\n",
            "\n",
            "  warnings.warn(smsg, UserWarning)\n",
            "/usr/local/lib/python3.11/dist-packages/xgboost/core.py:158: UserWarning: [06:36:04] WARNING: /workspace/src/learner.cc:740: \n",
            "Parameters: { \"use_label_encoder\" } are not used.\n",
            "\n",
            "  warnings.warn(smsg, UserWarning)\n",
            "/usr/local/lib/python3.11/dist-packages/xgboost/core.py:158: UserWarning: [06:36:05] WARNING: /workspace/src/learner.cc:740: \n",
            "Parameters: { \"use_label_encoder\" } are not used.\n",
            "\n",
            "  warnings.warn(smsg, UserWarning)\n",
            "/usr/local/lib/python3.11/dist-packages/xgboost/core.py:158: UserWarning: [06:36:06] WARNING: /workspace/src/learner.cc:740: \n",
            "Parameters: { \"use_label_encoder\" } are not used.\n",
            "\n",
            "  warnings.warn(smsg, UserWarning)\n",
            "/usr/local/lib/python3.11/dist-packages/xgboost/core.py:158: UserWarning: [06:36:07] WARNING: /workspace/src/learner.cc:740: \n",
            "Parameters: { \"use_label_encoder\" } are not used.\n",
            "\n",
            "  warnings.warn(smsg, UserWarning)\n",
            "/usr/local/lib/python3.11/dist-packages/xgboost/core.py:158: UserWarning: [06:36:07] WARNING: /workspace/src/learner.cc:740: \n",
            "Parameters: { \"use_label_encoder\" } are not used.\n",
            "\n",
            "  warnings.warn(smsg, UserWarning)\n"
          ]
        },
        {
          "output_type": "stream",
          "name": "stdout",
          "text": [
            "Best n_estimators: 25\n",
            "Best Test Accuracy: 0.9998\n"
          ]
        },
        {
          "output_type": "execute_result",
          "data": {
            "text/plain": [
              "['best_xgboost_model.pkl']"
            ]
          },
          "metadata": {},
          "execution_count": 110
        }
      ]
    },
    {
      "cell_type": "code",
      "source": [
        "# Find the best model based on test accuracy\n",
        "best_index = test_accuracy_scores.index(max(test_accuracy_scores))\n",
        "best_n_estimators = n_estimators_list[best_index]\n",
        "best_xgb_model = xgb_models_list[best_index]\n",
        "\n",
        "print(f\"Best n_estimators: {best_n_estimators}\")\n",
        "print(f\"Best Test Accuracy: {test_accuracy_scores[best_index]:.4f}\")\n",
        "\n",
        "# Plot Confusion Matrix for best model\n",
        "ConfusionMatrixDisplay.from_estimator(best_xgb_model, X_test, y_test, cmap=\"Blues\")\n",
        "plt.title(f\"XGBoost Confusion Matrix (n_estimators = {best_n_estimators})\")\n",
        "plt.show()"
      ],
      "metadata": {
        "id": "k3A-ojVW9sRz",
        "colab": {
          "base_uri": "https://localhost:8080/",
          "height": 506
        },
        "outputId": "64d14656-00cd-42b7-9f3b-64f183b7645c"
      },
      "execution_count": 111,
      "outputs": [
        {
          "output_type": "stream",
          "name": "stdout",
          "text": [
            "Best n_estimators: 25\n",
            "Best Test Accuracy: 0.9998\n"
          ]
        },
        {
          "output_type": "display_data",
          "data": {
            "text/plain": [
              "<Figure size 640x480 with 2 Axes>"
            ],
            "image/png": "[encoded data removed]"
          },
          "metadata": {}
        }
      ]
    },
    {
      "cell_type": "markdown",
      "source": [
        "# 4. Neural Network\n",
        "A Neural Network (NN) is a computational model inspired by the structure of the human brain. It’s made up of layers of interconnected nodes (neurons) that learn to recognize patterns and make predictions.\n",
        "\n",
        "It’s the foundation for many deep learning models, especially in image processing, time series analysis, natural language processing, and tabular data classification.\n",
        "\n",
        "**Structure of a Neural Network**\n",
        "1. Input Layer\n",
        "Takes in features from the dataset (e.g., age, income, packet count, etc.)\n",
        "2. Hidden Layer(s)\n",
        "Applies transformations to the input using weights, biases, and activation functions (like ReLU, sigmoid). More layers = more complex representations\n",
        "3. Output Layer\n",
        "Outputs the prediction (e.g., class 0 or 1 for binary classification using sigmoid)"
      ],
      "metadata": {
        "id": "W4enRUfkzx_-"
      }
    },
    {
      "cell_type": "code",
      "source": [
        "from tensorflow.keras.models import Sequential\n",
        "from tensorflow.keras.layers import Dense, Dropout\n",
        "import matplotlib.pyplot as plt\n",
        "import joblib\n",
        "\n",
        "# Define the model\n",
        "nn_model = Sequential([\n",
        "    Dense(64, activation='relu', input_shape=(X_train.shape[1],)),\n",
        "    Dropout(0.5),\n",
        "    Dense(32, activation='relu'),\n",
        "    Dense(1, activation='sigmoid')\n",
        "])\n",
        "\n",
        "# Compile the model\n",
        "nn_model.compile(optimizer='adam', loss='binary_crossentropy', metrics=['accuracy'])\n",
        "\n",
        "# Train the model\n",
        "history = nn_model.fit(X_train, y_train, epochs=10, batch_size=32, validation_split=0.2)\n",
        "\n",
        "# Predict outputs (threshold at 0.5 to convert probabilities to class labels)\n",
        "y_train_pred_nn = (nn_model.predict(X_train) > 0.5).astype(int)\n",
        "y_test_pred_nn = (nn_model.predict(X_test) > 0.5).astype(int)\n",
        "\n",
        "joblib.dump(nn_model, 'best_ann_model.pkl')"
      ],
      "metadata": {
        "id": "yqd7L7w2z-Td",
        "colab": {
          "base_uri": "https://localhost:8080/"
        },
        "outputId": "ca115ab2-2de3-4e40-bd19-8b251ef383c7"
      },
      "execution_count": 100,
      "outputs": [
        {
          "output_type": "stream",
          "name": "stdout",
          "text": [
            "Epoch 1/10\n"
          ]
        },
        {
          "output_type": "stream",
          "name": "stderr",
          "text": [
            "/usr/local/lib/python3.11/dist-packages/keras/src/layers/core/dense.py:87: UserWarning: Do not pass an `input_shape`/`input_dim` argument to a layer. When using Sequential models, prefer using an `Input(shape)` object as the first layer in the model instead.\n",
            "  super().__init__(activity_regularizer=activity_regularizer, **kwargs)\n"
          ]
        },
        {
          "output_type": "stream",
          "name": "stdout",
          "text": [
            "\u001b[1m2520/2520\u001b[0m \u001b[32m━━━━━━━━━━━━━━━━━━━━\u001b[0m\u001b[37m\u001b[0m \u001b[1m10s\u001b[0m 4ms/step - accuracy: 0.9699 - loss: 0.0974 - val_accuracy: 0.9960 - val_loss: 0.0153\n",
            "Epoch 2/10\n",
            "\u001b[1m2520/2520\u001b[0m \u001b[32m━━━━━━━━━━━━━━━━━━━━\u001b[0m\u001b[37m\u001b[0m \u001b[1m7s\u001b[0m 3ms/step - accuracy: 0.9956 - loss: 0.0230 - val_accuracy: 0.9982 - val_loss: 0.0104\n",
            "Epoch 3/10\n",
            "\u001b[1m2520/2520\u001b[0m \u001b[32m━━━━━━━━━━━━━━━━━━━━\u001b[0m\u001b[37m\u001b[0m \u001b[1m8s\u001b[0m 3ms/step - accuracy: 0.9971 - loss: 0.0107 - val_accuracy: 0.9990 - val_loss: 0.0049\n",
            "Epoch 4/10\n",
            "\u001b[1m2520/2520\u001b[0m \u001b[32m━━━━━━━━━━━━━━━━━━━━\u001b[0m\u001b[37m\u001b[0m \u001b[1m10s\u001b[0m 3ms/step - accuracy: 0.9976 - loss: 0.0123 - val_accuracy: 0.9987 - val_loss: 0.0054\n",
            "Epoch 5/10\n",
            "\u001b[1m2520/2520\u001b[0m \u001b[32m━━━━━━━━━━━━━━━━━━━━\u001b[0m\u001b[37m\u001b[0m \u001b[1m7s\u001b[0m 3ms/step - accuracy: 0.9978 - loss: 0.0097 - val_accuracy: 0.9991 - val_loss: 0.0033\n",
            "Epoch 6/10\n",
            "\u001b[1m2520/2520\u001b[0m \u001b[32m━━━━━━━━━━━━━━━━━━━━\u001b[0m\u001b[37m\u001b[0m \u001b[1m10s\u001b[0m 3ms/step - accuracy: 0.9982 - loss: 0.0092 - val_accuracy: 0.9992 - val_loss: 0.0027\n",
            "Epoch 7/10\n",
            "\u001b[1m2520/2520\u001b[0m \u001b[32m━━━━━━━━━━━━━━━━━━━━\u001b[0m\u001b[37m\u001b[0m \u001b[1m8s\u001b[0m 3ms/step - accuracy: 0.9985 - loss: 0.0055 - val_accuracy: 0.9992 - val_loss: 0.0025\n",
            "Epoch 8/10\n",
            "\u001b[1m2520/2520\u001b[0m \u001b[32m━━━━━━━━━━━━━━━━━━━━\u001b[0m\u001b[37m\u001b[0m \u001b[1m10s\u001b[0m 3ms/step - accuracy: 0.9986 - loss: 0.0056 - val_accuracy: 0.9993 - val_loss: 0.0021\n",
            "Epoch 9/10\n",
            "\u001b[1m2520/2520\u001b[0m \u001b[32m━━━━━━━━━━━━━━━━━━━━\u001b[0m\u001b[37m\u001b[0m \u001b[1m7s\u001b[0m 3ms/step - accuracy: 0.9987 - loss: 0.0041 - val_accuracy: 0.9994 - val_loss: 0.0029\n",
            "Epoch 10/10\n",
            "\u001b[1m2520/2520\u001b[0m \u001b[32m━━━━━━━━━━━━━━━━━━━━\u001b[0m\u001b[37m\u001b[0m \u001b[1m12s\u001b[0m 3ms/step - accuracy: 0.9986 - loss: 0.0047 - val_accuracy: 0.9994 - val_loss: 0.0023\n",
            "\u001b[1m3150/3150\u001b[0m \u001b[32m━━━━━━━━━━━━━━━━━━━━\u001b[0m\u001b[37m\u001b[0m \u001b[1m7s\u001b[0m 2ms/step\n",
            "\u001b[1m788/788\u001b[0m \u001b[32m━━━━━━━━━━━━━━━━━━━━\u001b[0m\u001b[37m\u001b[0m \u001b[1m2s\u001b[0m 2ms/step\n"
          ]
        },
        {
          "output_type": "execute_result",
          "data": {
            "text/plain": [
              "['best_ann_model.pkl']"
            ]
          },
          "metadata": {},
          "execution_count": 100
        }
      ]
    },
    {
      "cell_type": "code",
      "source": [
        "joblib.dump(nn_model, 'best_nn_model.pkl')"
      ],
      "metadata": {
        "colab": {
          "base_uri": "https://localhost:8080/"
        },
        "id": "5u2LCXn0CfoP",
        "outputId": "4eef84d5-20ca-4de6-fef6-d5edae3d7859"
      },
      "execution_count": 101,
      "outputs": [
        {
          "output_type": "execute_result",
          "data": {
            "text/plain": [
              "['best_nn_model.pkl']"
            ]
          },
          "metadata": {},
          "execution_count": 101
        }
      ]
    },
    {
      "cell_type": "code",
      "source": [
        "# Accuracy\n",
        "train_acc_nn = accuracy_score(y_train, y_train_pred_nn)\n",
        "test_acc_nn = accuracy_score(y_test, y_test_pred_nn)\n",
        "\n",
        "print(f\"Train Accuracy (Neural Net): {train_acc_nn:.4f}\")\n",
        "print(f\"Test Accuracy (Neural Net): {test_acc_nn:.4f}\")\n",
        "\n",
        "# Confusion Matrix (Test)\n",
        "ConfusionMatrixDisplay.from_predictions(y_test, y_test_pred_nn, cmap='Blues')\n",
        "plt.title(\"Neural Network Confusion Matrix\")\n",
        "plt.show()"
      ],
      "metadata": {
        "id": "IKnl3pfs9xsa",
        "colab": {
          "base_uri": "https://localhost:8080/",
          "height": 506
        },
        "outputId": "2b9f2697-3cc3-4a7d-d88e-8a216ec4af89"
      },
      "execution_count": 102,
      "outputs": [
        {
          "output_type": "stream",
          "name": "stdout",
          "text": [
            "Train Accuracy (Neural Net): 0.9994\n",
            "Test Accuracy (Neural Net): 0.9994\n"
          ]
        },
        {
          "output_type": "display_data",
          "data": {
            "text/plain": [
              "<Figure size 640x480 with 2 Axes>"
            ],
            "image/png": "[encoded data removed]"
          },
          "metadata": {}
        }
      ]
    },
    {
      "cell_type": "markdown",
      "source": [
        "# 5. CNN for Time-Series\n",
        "While CNNs (Convolutional Neural Networks) are typically associated with image processing, they are very effective for time-series data as well — especially for pattern detection and feature extraction from temporal sequences.\n",
        "\n",
        "Why Use CNN for Time-Series?\n",
        "\n",
        "CNNs can:\n",
        "- Automatically extract local patterns (e.g., spikes, trends)\n",
        "- Handle multivariate time-series well\n",
        "- Are faster to train than RNNs/LSTMs\n",
        "- Work well for classification tasks (e.g., anomaly detection, signal classification, intrusion detection like NSL-KDD)"
      ],
      "metadata": {
        "id": "pTxtKFv3z4av"
      }
    },
    {
      "cell_type": "code",
      "source": [
        "from tensorflow.keras.models import Sequential\n",
        "from tensorflow.keras.layers import Conv1D, MaxPooling1D, Flatten, Dense, Dropout\n",
        "from sklearn.metrics import accuracy_score, ConfusionMatrixDisplay\n",
        "import matplotlib.pyplot as plt\n",
        "import numpy as np\n",
        "\n",
        "# Reshape X_train and X_test for CNN input (samples, timesteps, features)\n",
        "X_train_cnn = X_train.reshape(X_train.shape[0], X_train.shape[1], 1)\n",
        "X_test_cnn = X_test.reshape(X_test.shape[0], X_test.shape[1], 1)\n",
        "\n",
        "# Define CNN model\n",
        "cnn_model = Sequential([\n",
        "    Conv1D(64, kernel_size=3, activation='relu', input_shape=(X_train.shape[1], 1)),\n",
        "    MaxPooling1D(pool_size=2),\n",
        "    Dropout(0.5),\n",
        "    Flatten(),\n",
        "    Dense(32, activation='relu'),\n",
        "    Dense(1, activation='sigmoid')\n",
        "])\n",
        "\n",
        "# Compile the model\n",
        "cnn_model.compile(optimizer='adam', loss='binary_crossentropy', metrics=['accuracy'])\n",
        "\n",
        "# Train the model\n",
        "history_cnn = cnn_model.fit(X_train_cnn, y_train, epochs=10, batch_size=32, validation_split=0.2)\n",
        "\n",
        "# Predict outputs (threshold at 0.5)\n",
        "y_train_pred_cnn = (cnn_model.predict(X_train_cnn) > 0.5).astype(int)\n",
        "y_test_pred_cnn = (cnn_model.predict(X_test_cnn) > 0.5).astype(int)\n",
        "\n",
        "# Save the model\n",
        "joblib.dump(cnn_model, \"best_cnn_model.pkl\")"
      ],
      "metadata": {
        "id": "S8Q8DQlKz8Oe",
        "colab": {
          "base_uri": "https://localhost:8080/"
        },
        "outputId": "7ce2fd7b-03d8-44d7-953f-1af4fb135da4"
      },
      "execution_count": 103,
      "outputs": [
        {
          "output_type": "stream",
          "name": "stdout",
          "text": [
            "Epoch 1/10\n"
          ]
        },
        {
          "output_type": "stream",
          "name": "stderr",
          "text": [
            "/usr/local/lib/python3.11/dist-packages/keras/src/layers/convolutional/base_conv.py:107: UserWarning: Do not pass an `input_shape`/`input_dim` argument to a layer. When using Sequential models, prefer using an `Input(shape)` object as the first layer in the model instead.\n",
            "  super().__init__(activity_regularizer=activity_regularizer, **kwargs)\n"
          ]
        },
        {
          "output_type": "stream",
          "name": "stdout",
          "text": [
            "\u001b[1m2520/2520\u001b[0m \u001b[32m━━━━━━━━━━━━━━━━━━━━\u001b[0m\u001b[37m\u001b[0m \u001b[1m12s\u001b[0m 4ms/step - accuracy: 0.9653 - loss: 0.1319 - val_accuracy: 0.9935 - val_loss: 0.0172\n",
            "Epoch 2/10\n",
            "\u001b[1m2520/2520\u001b[0m \u001b[32m━━━━━━━━━━━━━━━━━━━━\u001b[0m\u001b[37m\u001b[0m \u001b[1m20s\u001b[0m 4ms/step - accuracy: 0.9925 - loss: 0.0246 - val_accuracy: 0.9972 - val_loss: 0.0106\n",
            "Epoch 3/10\n",
            "\u001b[1m2520/2520\u001b[0m \u001b[32m━━━━━━━━━━━━━━━━━━━━\u001b[0m\u001b[37m\u001b[0m \u001b[1m11s\u001b[0m 4ms/step - accuracy: 0.9956 - loss: 0.0166 - val_accuracy: 0.9985 - val_loss: 0.0050\n",
            "Epoch 4/10\n",
            "\u001b[1m2520/2520\u001b[0m \u001b[32m━━━━━━━━━━━━━━━━━━━━\u001b[0m\u001b[37m\u001b[0m \u001b[1m21s\u001b[0m 5ms/step - accuracy: 0.9964 - loss: 0.0110 - val_accuracy: 0.9988 - val_loss: 0.0050\n",
            "Epoch 5/10\n",
            "\u001b[1m2520/2520\u001b[0m \u001b[32m━━━━━━━━━━━━━━━━━━━━\u001b[0m\u001b[37m\u001b[0m \u001b[1m28s\u001b[0m 8ms/step - accuracy: 0.9971 - loss: 0.0104 - val_accuracy: 0.9992 - val_loss: 0.0038\n",
            "Epoch 6/10\n",
            "\u001b[1m2520/2520\u001b[0m \u001b[32m━━━━━━━━━━━━━━━━━━━━\u001b[0m\u001b[37m\u001b[0m \u001b[1m19s\u001b[0m 7ms/step - accuracy: 0.9975 - loss: 0.0125 - val_accuracy: 0.9991 - val_loss: 0.0039\n",
            "Epoch 7/10\n",
            "\u001b[1m2520/2520\u001b[0m \u001b[32m━━━━━━━━━━━━━━━━━━━━\u001b[0m\u001b[37m\u001b[0m \u001b[1m20s\u001b[0m 8ms/step - accuracy: 0.9984 - loss: 0.0058 - val_accuracy: 0.9993 - val_loss: 0.0029\n",
            "Epoch 8/10\n",
            "\u001b[1m2520/2520\u001b[0m \u001b[32m━━━━━━━━━━━━━━━━━━━━\u001b[0m\u001b[37m\u001b[0m \u001b[1m12s\u001b[0m 5ms/step - accuracy: 0.9982 - loss: 0.0066 - val_accuracy: 0.9994 - val_loss: 0.0036\n",
            "Epoch 9/10\n",
            "\u001b[1m2520/2520\u001b[0m \u001b[32m━━━━━━━━━━━━━━━━━━━━\u001b[0m\u001b[37m\u001b[0m \u001b[1m11s\u001b[0m 4ms/step - accuracy: 0.9981 - loss: 0.0105 - val_accuracy: 0.9996 - val_loss: 0.0027\n",
            "Epoch 10/10\n",
            "\u001b[1m2520/2520\u001b[0m \u001b[32m━━━━━━━━━━━━━━━━━━━━\u001b[0m\u001b[37m\u001b[0m \u001b[1m20s\u001b[0m 4ms/step - accuracy: 0.9983 - loss: 0.0049 - val_accuracy: 0.9995 - val_loss: 0.0029\n",
            "\u001b[1m3150/3150\u001b[0m \u001b[32m━━━━━━━━━━━━━━━━━━━━\u001b[0m\u001b[37m\u001b[0m \u001b[1m4s\u001b[0m 1ms/step\n",
            "\u001b[1m788/788\u001b[0m \u001b[32m━━━━━━━━━━━━━━━━━━━━\u001b[0m\u001b[37m\u001b[0m \u001b[1m1s\u001b[0m 1ms/step\n"
          ]
        },
        {
          "output_type": "execute_result",
          "data": {
            "text/plain": [
              "['best_cnn_model.pkl']"
            ]
          },
          "metadata": {},
          "execution_count": 103
        }
      ]
    },
    {
      "cell_type": "code",
      "source": [
        "# Accuracy\n",
        "train_acc_cnn = accuracy_score(y_train, y_train_pred_cnn)\n",
        "test_acc_cnn = accuracy_score(y_test, y_test_pred_cnn)\n",
        "\n",
        "print(f\"Train Accuracy (CNN): {train_acc_cnn:.4f}\")\n",
        "print(f\"Test Accuracy (CNN): {test_acc_cnn:.4f}\")\n",
        "\n",
        "# Confusion Matrix\n",
        "ConfusionMatrixDisplay.from_predictions(y_test, y_test_pred_cnn, cmap='Blues')\n",
        "plt.title(\"CNN Confusion Matrix\")\n",
        "plt.show()"
      ],
      "metadata": {
        "id": "qbupyJP19-Oj",
        "colab": {
          "base_uri": "https://localhost:8080/",
          "height": 506
        },
        "outputId": "95e26df3-03a4-49b1-fbf1-efdfaeee0f41"
      },
      "execution_count": 107,
      "outputs": [
        {
          "output_type": "stream",
          "name": "stdout",
          "text": [
            "Train Accuracy (CNN): 0.9995\n",
            "Test Accuracy (CNN): 0.9995\n"
          ]
        },
        {
          "output_type": "display_data",
          "data": {
            "text/plain": [
              "<Figure size 640x480 with 2 Axes>"
            ],
            "image/png": "[encoded data removed]"
          },
          "metadata": {}
        }
      ]
    },
    {
      "cell_type": "markdown",
      "source": [
        "# **Load the Models**\n",
        "\n",
        "Why This is Important\n",
        "- **Persistence**: You can reuse trained models later without retraining.\n",
        "- **Efficiency**: Useful in deployment pipelines or production systems.\n",
        "- **Evaluation**: Compare performance of models across different runs or on new data."
      ],
      "metadata": {
        "id": "o3SusWtc_51z"
      }
    },
    {
      "cell_type": "code",
      "source": [
        "# Load pre-trained models\n",
        "lr_model = joblib.load('best_logistic_model.pkl')\n",
        "rf_model = joblib.load('best_random_forest_model.pkl')\n",
        "xgb_model = joblib.load('best_xgboost_model.pkl')\n",
        "ann_model = joblib.load('best_nn_model.pkl')  # Keras model saved with joblib (non-standard)\n",
        "cnn_model = joblib.load('best_cnn_model.pkl')  # Keras model saved with joblib (non-standard)\n",
        "\n",
        "new_data = X_test[:5]  # or any 5 samples with same features as your training data\n",
        "\n",
        "# Assume new_data is preprocessed and scaled correctly for each model\n",
        "# For ANN and other 2D models\n",
        "y_pred_lr = lr_model.predict(new_data)\n",
        "y_pred_rf = rf_model.predict(new_data)\n",
        "y_pred_xgb = xgb_model.predict(new_data)\n",
        "y_pred_ann = (ann_model.predict(new_data) > 0.5).astype(int)"
      ],
      "metadata": {
        "colab": {
          "base_uri": "https://localhost:8080/"
        },
        "id": "vnD7BoBr_5W7",
        "outputId": "8fc168a7-26e7-483b-cb54-cfc6e15cc3bf"
      },
      "execution_count": 108,
      "outputs": [
        {
          "output_type": "stream",
          "name": "stdout",
          "text": [
            "\u001b[1m1/1\u001b[0m \u001b[32m━━━━━━━━━━━━━━━━━━━━\u001b[0m\u001b[37m\u001b[0m \u001b[1m36s\u001b[0m 36s/step\n",
            "\u001b[1m3150/3150\u001b[0m \u001b[32m━━━━━━━━━━━━━━━━━━━━\u001b[0m\u001b[37m\u001b[0m \u001b[1m5s\u001b[0m 1ms/step\n"
          ]
        }
      ]
    },
    {
      "cell_type": "markdown",
      "source": [
        "**Why Load a Model?**\n",
        "\n",
        "Once you’ve trained and saved your machine learning models (like Logistic Regression, Random Forest, XGBoost, ANN, CNN), you don’t need to retrain them every time. Instead, you can load the saved models and use them to predict new unseen data. This is especially useful in real-world applications like production systems, automation, or batch processing."
      ],
      "metadata": {
        "id": "5znnpKSzRvvP"
      }
    },
    {
      "cell_type": "code",
      "source": [
        "# Predict using 2D models\n",
        "\n",
        "y_pred_lr = lr_model.predict(new_data)\n",
        "y_pred_rf = rf_model.predict(new_data)\n",
        "y_pred_xgb = xgb_model.predict(new_data)\n",
        "y_pred_ann = (ann_model.predict(new_data) > 0.5).astype(int)"
      ],
      "metadata": {
        "colab": {
          "base_uri": "https://localhost:8080/"
        },
        "id": "ktp4I4FwR1_H",
        "outputId": "707fc414-936b-4585-8b08-8e5e721ba4f0"
      },
      "execution_count": 113,
      "outputs": [
        {
          "output_type": "stream",
          "name": "stdout",
          "text": [
            "\u001b[1m1/1\u001b[0m \u001b[32m━━━━━━━━━━━━━━━━━━━━\u001b[0m\u001b[37m\u001b[0m \u001b[1m0s\u001b[0m 108ms/step\n"
          ]
        }
      ]
    },
    {
      "cell_type": "code",
      "source": [
        "# For CNN, reshape new_data to 3D: (samples, timesteps, features)\n",
        "new_data_cnn = new_data.reshape(new_data.shape[0], new_data.shape[1], 1)\n",
        "\n",
        "#new_data_cnn.shape\n",
        "y_pred_cnn = (cnn_model.predict(X_train_cnn) > 0.5).astype(int)"
      ],
      "metadata": {
        "colab": {
          "base_uri": "https://localhost:8080/"
        },
        "id": "WcCcG6UkUyU8",
        "outputId": "10055add-ba0d-4b16-e4ef-c6cc6be04fa8"
      },
      "execution_count": 114,
      "outputs": [
        {
          "output_type": "stream",
          "name": "stdout",
          "text": [
            "\u001b[1m3150/3150\u001b[0m \u001b[32m━━━━━━━━━━━━━━━━━━━━\u001b[0m\u001b[37m\u001b[0m \u001b[1m6s\u001b[0m 2ms/step\n"
          ]
        }
      ]
    },
    {
      "cell_type": "code",
      "source": [
        "# Print predictions for 5 samples\n",
        "print(\"Logistic Regression:\", y_pred_lr)\n",
        "print(\"Random Forest:\", y_pred_rf)\n",
        "print(\"XGBoost:\", y_pred_xgb)\n",
        "print(\"ANN:\", y_pred_ann.ravel())\n",
        "print(\"CNN:\", y_pred_cnn.ravel())\n",
        "new_data_cnn.shape"
      ],
      "metadata": {
        "colab": {
          "base_uri": "https://localhost:8080/"
        },
        "id": "vht67ZTEU1pZ",
        "outputId": "9e598c6f-b1fd-41bb-ff42-8b899ee5b88e"
      },
      "execution_count": 119,
      "outputs": [
        {
          "output_type": "stream",
          "name": "stdout",
          "text": [
            "Logistic Regression: [1 0 1 1 0]\n",
            "Random Forest: [1 0 1 1 0]\n",
            "XGBoost: [1 0 1 1 0]\n",
            "ANN: [1 0 1 1 0]\n",
            "CNN: [0 0 0 ... 0 0 1]\n"
          ]
        },
        {
          "output_type": "execute_result",
          "data": {
            "text/plain": [
              "(5, 20, 1)"
            ]
          },
          "metadata": {},
          "execution_count": 119
        }
      ]
    },
    {
      "cell_type": "markdown",
      "source": [
        "#🎉 Congratulations! 🎉\n",
        "\n",
        "You’ve successfully completed a comprehensive supervised learning pipeline for network intrusion or classification detection using the NSL-KDD dataset (or your dataset of choice).\n",
        "\n",
        "✅ Starting with data preprocessing, you skillfully cleaned, scaled, and transformed your data into a machine-readable format.\n",
        "✅ You then trained multiple supervised learning models, including:\n",
        "- 📈 Logistic Regression — a solid baseline model for binary classification tasks.\n",
        "- 🌲 Random Forest — an ensemble method that improves accuracy by reducing overfitting.\n",
        "- 🚀 XGBoost — a powerful gradient boosting algorithm known for speed and performance.\n",
        "- 🧠 Artificial Neural Network (ANN) — able to capture complex, nonlinear relationships in the data.\n",
        "- 📊 Convolutional Neural Network (CNN) — adapted for 1D time-series analysis, giving strong results on structured data.\n",
        "\n",
        "💾 You didn’t stop there — you saved all your trained models using .pkl files so they can be reused without retraining.\n",
        "📤 Finally, you loaded your models to make predictions on new data, ensuring your system can operate in real-time or production environments."
      ],
      "metadata": {
        "id": "TOGEQOfmV_Km"
      }
    }
  ]
}